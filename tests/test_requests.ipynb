{
 "cells": [
  {
   "cell_type": "code",
   "execution_count": 11,
   "metadata": {},
   "outputs": [],
   "source": [
    "import requests\n",
    "import pandas as pd"
   ]
  },
  {
   "cell_type": "code",
   "execution_count": 12,
   "metadata": {},
   "outputs": [],
   "source": [
    "# Ler os dados\n",
    "data_path = 'C:\\\\Users\\\\polin\\\\OneDrive\\\\Documents\\\\GitHub\\\\Supervised-ML-BankPrediction-Classification\\\\data\\\\bank_marketing_campaign.csv'\n",
    "df = pd.read_csv(data_path)"
   ]
  },
  {
   "cell_type": "code",
   "execution_count": 13,
   "metadata": {},
   "outputs": [
    {
     "name": "stdout",
     "output_type": "stream",
     "text": [
      "   age        job  marital education default housing loan  pdays  previous  \\\n",
      "0   56  housemaid  married  basic.4y      no      no   no    999         0   \n",
      "\n",
      "      poutcome  emp_var_rate  cons_price_idx  cons_conf_idx  euribor3m  \\\n",
      "0  nonexistent           1.1          93.994          -36.4      4.857   \n",
      "\n",
      "   nr_employed  y  \n",
      "0       5191.0  0  \n"
     ]
    }
   ],
   "source": [
    "# Display all columns without truncation\n",
    "pd.set_option('display.max_columns', None)\n",
    "\n",
    "# Display all rows without truncation\n",
    "pd.set_option('display.max_rows', None)\n",
    "\n",
    "# Now when you run df.head(1), you'll see the full row without truncation\n",
    "print(df.head(1))\n"
   ]
  },
  {
   "cell_type": "code",
   "execution_count": 14,
   "metadata": {},
   "outputs": [],
   "source": [
    "# remove the target\n",
    "input_data = df.head(1).drop(['y'], axis = 'columns')"
   ]
  },
  {
   "cell_type": "code",
   "execution_count": 15,
   "metadata": {},
   "outputs": [],
   "source": [
    "request_dict = {k: v[0] for k, v in input_data.to_dict().items()}"
   ]
  },
  {
   "cell_type": "code",
   "execution_count": 16,
   "metadata": {},
   "outputs": [
    {
     "data": {
      "text/plain": [
       "{'age': 56,\n",
       " 'job': 'housemaid',\n",
       " 'marital': 'married',\n",
       " 'education': 'basic.4y',\n",
       " 'default': 'no',\n",
       " 'housing': 'no',\n",
       " 'loan': 'no',\n",
       " 'pdays': 999,\n",
       " 'previous': 0,\n",
       " 'poutcome': 'nonexistent',\n",
       " 'emp_var_rate': 1.1,\n",
       " 'cons_price_idx': 93.994,\n",
       " 'cons_conf_idx': -36.4,\n",
       " 'euribor3m': 4.857,\n",
       " 'nr_employed': 5191.0}"
      ]
     },
     "execution_count": 16,
     "metadata": {},
     "output_type": "execute_result"
    }
   ],
   "source": [
    "request_dict"
   ]
  },
  {
   "cell_type": "code",
   "execution_count": 17,
   "metadata": {},
   "outputs": [
    {
     "data": {
      "text/plain": [
       "age                 int64\n",
       "job                object\n",
       "marital            object\n",
       "education          object\n",
       "default            object\n",
       "housing            object\n",
       "loan               object\n",
       "pdays               int64\n",
       "previous            int64\n",
       "poutcome           object\n",
       "emp_var_rate      float64\n",
       "cons_price_idx    float64\n",
       "cons_conf_idx     float64\n",
       "euribor3m         float64\n",
       "nr_employed       float64\n",
       "y                   int64\n",
       "dtype: object"
      ]
     },
     "execution_count": 17,
     "metadata": {},
     "output_type": "execute_result"
    }
   ],
   "source": [
    "df.dtypes"
   ]
  },
  {
   "cell_type": "code",
   "execution_count": 18,
   "metadata": {},
   "outputs": [],
   "source": [
    "# make request with inputs\n",
    "response = requests.post(\"http://127.0.0.1:5003/predict\", json=request_dict)"
   ]
  },
  {
   "cell_type": "code",
   "execution_count": 19,
   "metadata": {},
   "outputs": [
    {
     "name": "stdout",
     "output_type": "stream",
     "text": [
      "200\n",
      "{\"prediction\":0}\n",
      "{'prediction': 0}\n"
     ]
    }
   ],
   "source": [
    "response = requests.post(\"http://127.0.0.1:5003/predict\", json=request_dict)\n",
    "\n",
    "print(response.status_code)  # Print the status code first\n",
    "print(response.text)  # Print the raw response content\n",
    "\n",
    "if response.status_code == 200:\n",
    "    try:\n",
    "        print(response.json())  # Attempt to parse the JSON response\n",
    "    except requests.exceptions.JSONDecodeError as e:\n",
    "        print(\"Error decoding JSON:\", e)\n",
    "else:\n",
    "    print(\"Error:\", response.text)\n"
   ]
  }
 ],
 "metadata": {
  "interpreter": {
   "hash": "458393e0d725110a6d0a7c08e796de430035df3893ff37c15fbe20afef919c4b"
  },
  "kernelspec": {
   "display_name": "Python 3.7.11 64-bit ('rumos_bank': conda)",
   "name": "python3"
  },
  "language_info": {
   "codemirror_mode": {
    "name": "ipython",
    "version": 3
   },
   "file_extension": ".py",
   "mimetype": "text/x-python",
   "name": "python",
   "nbconvert_exporter": "python",
   "pygments_lexer": "ipython3",
   "version": "3.11.9"
  },
  "orig_nbformat": 4
 },
 "nbformat": 4,
 "nbformat_minor": 2
}
