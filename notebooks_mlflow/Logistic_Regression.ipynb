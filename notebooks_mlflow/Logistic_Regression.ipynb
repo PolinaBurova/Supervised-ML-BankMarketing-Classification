{
 "cells": [
  {
   "cell_type": "code",
   "execution_count": 80,
   "metadata": {},
   "outputs": [],
   "source": [
    "root_path = 'C:\\\\...\\\\Supervised-ML-BankPrediction-Classification\\\\data\\\\'"
   ]
  },
  {
   "cell_type": "code",
   "execution_count": 81,
   "metadata": {},
   "outputs": [],
   "source": [
    "import pandas as pd\n",
    "import numpy as np\n",
    "import matplotlib.pyplot as plt\n",
    "from sklearn.metrics import  precision_recall_curve, roc_auc_score, confusion_matrix, accuracy_score, recall_score, precision_score, f1_score,auc, roc_curve\n",
    "import pandas as pd\n",
    "from sklearn.model_selection import train_test_split\n",
    "from sklearn.preprocessing import MinMaxScaler\n",
    "from sklearn.model_selection import GridSearchCV\n",
    "from sklearn.ensemble import RandomForestClassifier\n",
    "from sklearn.linear_model import LogisticRegression\n",
    "from sklearn.neighbors import KNeighborsClassifier\n",
    "from sklearn.svm import SVC\n",
    "from sklearn import tree\n",
    "from sklearn.linear_model import Perceptron\n",
    "from sklearn.neural_network import MLPClassifier\n",
    "from sklearn.pipeline import Pipeline\n",
    "from sklearn.compose import ColumnTransformer\n",
    "from sklearn.preprocessing import MinMaxScaler, OneHotEncoder, OrdinalEncoder\n",
    "from sklearn.decomposition import PCA\n",
    "import mlflow\n",
    "import mlflow.sklearn\n",
    "import numpy as np\n",
    "\n",
    "import warnings\n",
    "\n",
    "# Ignore all warnings\n",
    "warnings.filterwarnings(\"ignore\")\n",
    "\n",
    "\n",
    "seed = 42"
   ]
  },
  {
   "cell_type": "code",
   "execution_count": 82,
   "metadata": {},
   "outputs": [
    {
     "data": {
      "text/html": [
       "<div>\n",
       "<style scoped>\n",
       "    .dataframe tbody tr th:only-of-type {\n",
       "        vertical-align: middle;\n",
       "    }\n",
       "\n",
       "    .dataframe tbody tr th {\n",
       "        vertical-align: top;\n",
       "    }\n",
       "\n",
       "    .dataframe thead th {\n",
       "        text-align: right;\n",
       "    }\n",
       "</style>\n",
       "<table border=\"1\" class=\"dataframe\">\n",
       "  <thead>\n",
       "    <tr style=\"text-align: right;\">\n",
       "      <th></th>\n",
       "      <th>age</th>\n",
       "      <th>job</th>\n",
       "      <th>marital</th>\n",
       "      <th>education</th>\n",
       "      <th>default</th>\n",
       "      <th>housing</th>\n",
       "      <th>loan</th>\n",
       "      <th>pdays</th>\n",
       "      <th>previous</th>\n",
       "      <th>poutcome</th>\n",
       "      <th>emp_var_rate</th>\n",
       "      <th>cons_price_idx</th>\n",
       "      <th>cons_conf_idx</th>\n",
       "      <th>euribor3m</th>\n",
       "      <th>nr_employed</th>\n",
       "      <th>y</th>\n",
       "    </tr>\n",
       "  </thead>\n",
       "  <tbody>\n",
       "    <tr>\n",
       "      <th>0</th>\n",
       "      <td>56</td>\n",
       "      <td>housemaid</td>\n",
       "      <td>married</td>\n",
       "      <td>basic.4y</td>\n",
       "      <td>no</td>\n",
       "      <td>no</td>\n",
       "      <td>no</td>\n",
       "      <td>999</td>\n",
       "      <td>0</td>\n",
       "      <td>nonexistent</td>\n",
       "      <td>1.1</td>\n",
       "      <td>93.994</td>\n",
       "      <td>-36.4</td>\n",
       "      <td>4.857</td>\n",
       "      <td>5191.0</td>\n",
       "      <td>0</td>\n",
       "    </tr>\n",
       "    <tr>\n",
       "      <th>1</th>\n",
       "      <td>57</td>\n",
       "      <td>services</td>\n",
       "      <td>married</td>\n",
       "      <td>high.school</td>\n",
       "      <td>unknown</td>\n",
       "      <td>no</td>\n",
       "      <td>no</td>\n",
       "      <td>999</td>\n",
       "      <td>0</td>\n",
       "      <td>nonexistent</td>\n",
       "      <td>1.1</td>\n",
       "      <td>93.994</td>\n",
       "      <td>-36.4</td>\n",
       "      <td>4.857</td>\n",
       "      <td>5191.0</td>\n",
       "      <td>0</td>\n",
       "    </tr>\n",
       "    <tr>\n",
       "      <th>2</th>\n",
       "      <td>37</td>\n",
       "      <td>services</td>\n",
       "      <td>married</td>\n",
       "      <td>high.school</td>\n",
       "      <td>no</td>\n",
       "      <td>yes</td>\n",
       "      <td>no</td>\n",
       "      <td>999</td>\n",
       "      <td>0</td>\n",
       "      <td>nonexistent</td>\n",
       "      <td>1.1</td>\n",
       "      <td>93.994</td>\n",
       "      <td>-36.4</td>\n",
       "      <td>4.857</td>\n",
       "      <td>5191.0</td>\n",
       "      <td>0</td>\n",
       "    </tr>\n",
       "    <tr>\n",
       "      <th>3</th>\n",
       "      <td>40</td>\n",
       "      <td>admin.</td>\n",
       "      <td>married</td>\n",
       "      <td>basic.6y</td>\n",
       "      <td>no</td>\n",
       "      <td>no</td>\n",
       "      <td>no</td>\n",
       "      <td>999</td>\n",
       "      <td>0</td>\n",
       "      <td>nonexistent</td>\n",
       "      <td>1.1</td>\n",
       "      <td>93.994</td>\n",
       "      <td>-36.4</td>\n",
       "      <td>4.857</td>\n",
       "      <td>5191.0</td>\n",
       "      <td>0</td>\n",
       "    </tr>\n",
       "    <tr>\n",
       "      <th>4</th>\n",
       "      <td>56</td>\n",
       "      <td>services</td>\n",
       "      <td>married</td>\n",
       "      <td>high.school</td>\n",
       "      <td>no</td>\n",
       "      <td>no</td>\n",
       "      <td>yes</td>\n",
       "      <td>999</td>\n",
       "      <td>0</td>\n",
       "      <td>nonexistent</td>\n",
       "      <td>1.1</td>\n",
       "      <td>93.994</td>\n",
       "      <td>-36.4</td>\n",
       "      <td>4.857</td>\n",
       "      <td>5191.0</td>\n",
       "      <td>0</td>\n",
       "    </tr>\n",
       "  </tbody>\n",
       "</table>\n",
       "</div>"
      ],
      "text/plain": [
       "   age        job  marital    education  default housing loan  pdays  \\\n",
       "0   56  housemaid  married     basic.4y       no      no   no    999   \n",
       "1   57   services  married  high.school  unknown      no   no    999   \n",
       "2   37   services  married  high.school       no     yes   no    999   \n",
       "3   40     admin.  married     basic.6y       no      no   no    999   \n",
       "4   56   services  married  high.school       no      no  yes    999   \n",
       "\n",
       "   previous     poutcome  emp_var_rate  cons_price_idx  cons_conf_idx  \\\n",
       "0         0  nonexistent           1.1          93.994          -36.4   \n",
       "1         0  nonexistent           1.1          93.994          -36.4   \n",
       "2         0  nonexistent           1.1          93.994          -36.4   \n",
       "3         0  nonexistent           1.1          93.994          -36.4   \n",
       "4         0  nonexistent           1.1          93.994          -36.4   \n",
       "\n",
       "   euribor3m  nr_employed  y  \n",
       "0      4.857       5191.0  0  \n",
       "1      4.857       5191.0  0  \n",
       "2      4.857       5191.0  0  \n",
       "3      4.857       5191.0  0  \n",
       "4      4.857       5191.0  0  "
      ]
     },
     "execution_count": 82,
     "metadata": {},
     "output_type": "execute_result"
    }
   ],
   "source": [
    "df = pd.read_csv(root_path + 'bank_marketing_campaign.csv')\n",
    "df.head()"
   ]
  },
  {
   "cell_type": "markdown",
   "metadata": {},
   "source": [
    "### Data Cleaning and Preprocessing"
   ]
  },
  {
   "cell_type": "code",
   "execution_count": 83,
   "metadata": {},
   "outputs": [],
   "source": [
    "#Handling \"age\"\" Outliers\n",
    "\n",
    "\n",
    "df = df[df['age'] <= 85]"
   ]
  },
  {
   "cell_type": "code",
   "execution_count": 84,
   "metadata": {},
   "outputs": [],
   "source": [
    "train_set, test_set = train_test_split(df, test_size = 0.2, random_state = seed)\n",
    "\n",
    "X_train = train_set.drop(['y'], axis = 'columns')\n",
    "y_train = train_set['y']\n",
    "\n",
    "X_test = test_set.drop(['y'], axis = 1)\n",
    "y_test = test_set['y']"
   ]
  },
  {
   "cell_type": "code",
   "execution_count": 85,
   "metadata": {},
   "outputs": [],
   "source": [
    "def total_cost(y_test, y_preds, threshold = 0.5):\n",
    "    \n",
    "    tn, fp, fn, tp = confusion_matrix(y_test == 1, y_preds > threshold).ravel()\n",
    "    \n",
    "    cost_fn = fn*2000\n",
    "    cost_fp = fp*500\n",
    "    \n",
    "    return cost_fn + cost_fp"
   ]
  },
  {
   "cell_type": "code",
   "execution_count": 86,
   "metadata": {},
   "outputs": [],
   "source": [
    "def min_cost_threshold(y_test, y_preds):\n",
    "    costs = {}\n",
    "    for threshold in np.arange(0, 1.1, 0.1):\n",
    "        costs[round(threshold, 1)] = total_cost(y_test, y_preds, threshold)\n",
    "    min_threshold = min(costs, key=costs.get)\n",
    "    return costs[min_threshold], min_threshold\n",
    "    "
   ]
  },
  {
   "cell_type": "code",
   "execution_count": 87,
   "metadata": {},
   "outputs": [],
   "source": [
    "import mlflow\n",
    "from pathlib import Path\n",
    "\n",
    "# Set the MLflow tracking URI\n",
    "\n",
    "# Use an absolute path\n",
    "mlflow.set_tracking_uri('file:///c:/.../Supervised-ML-BankPrediction-Classification/mlruns')"
   ]
  },
  {
   "cell_type": "code",
   "execution_count": 88,
   "metadata": {},
   "outputs": [
    {
     "data": {
      "text/plain": [
       "<Experiment: artifact_location='file:///c:/Users/polin/OneDrive/Documents/GitHub/Supervised-ML-BankPrediction-Classification/mlruns/695049780415577064', creation_time=1723546140572, experiment_id='695049780415577064', last_update_time=1723546140572, lifecycle_stage='active', name='Logistic Regression Experiment', tags={}>"
      ]
     },
     "execution_count": 88,
     "metadata": {},
     "output_type": "execute_result"
    }
   ],
   "source": [
    "# Define MLflow Experiment for Logistic Regression\n",
    "mlflow.set_experiment(\"Logistic Regression Experiment\")"
   ]
  },
  {
   "cell_type": "code",
   "execution_count": 89,
   "metadata": {},
   "outputs": [],
   "source": [
    "mlflow.end_run()"
   ]
  },
  {
   "cell_type": "code",
   "execution_count": 90,
   "metadata": {},
   "outputs": [
    {
     "name": "stderr",
     "output_type": "stream",
     "text": [
      "Registered model 'logistic_regression_pipeline' already exists. Creating a new version of this model...\n",
      "Created version '3' of model 'logistic_regression_pipeline'.\n"
     ]
    },
    {
     "data": {
      "image/png": "[encoded data removed]",
      "text/plain": [
       "<Figure size 640x480 with 1 Axes>"
      ]
     },
     "metadata": {},
     "output_type": "display_data"
    }
   ],
   "source": [
    "# Define the preprocessing for numerical features\n",
    "numerical_features = ['age', 'pdays', 'previous', 'emp_var_rate', \n",
    "                      'cons_price_idx', 'cons_conf_idx', 'euribor3m', 'nr_employed']\n",
    "numerical_transformer = MinMaxScaler()\n",
    "\n",
    "# Define the preprocessing for categorical features\n",
    "categorical_features = ['job', 'marital', 'default', 'housing', 'loan', 'poutcome']\n",
    "categorical_transformer = OneHotEncoder()\n",
    "\n",
    "# Ordinal Encoding for 'education'\n",
    "ordinal_features = ['education']\n",
    "ordinal_transformer = OrdinalEncoder(categories=[[\"unknown\", \"illiterate\", \"basic.4y\", \"basic.6y\", \"basic.9y\", \n",
    "                                                  \"high.school\", \"professional.course\", \"university.degree\"]])\n",
    "\n",
    "# Combine preprocessing steps\n",
    "preprocessor = ColumnTransformer(\n",
    "    transformers=[\n",
    "        ('num', numerical_transformer, numerical_features),\n",
    "        ('cat', categorical_transformer, categorical_features),\n",
    "        ('ord', ordinal_transformer, ordinal_features)\n",
    "    ])\n",
    "\n",
    "# PCA\n",
    "pca = PCA(n_components=14)\n",
    "\n",
    "# Define the logistic regression model\n",
    "logistic = LogisticRegression(max_iter=500, solver='lbfgs', random_state=seed, class_weight='balanced')\n",
    "\n",
    "# Create the pipeline\n",
    "pipeline = Pipeline(steps=[\n",
    "    ('preprocessor', preprocessor),\n",
    "    ('pca', pca),\n",
    "    ('logistic', logistic)\n",
    "])\n",
    "\n",
    "# Define hyperparameters for GridSearch\n",
    "parameters = {'logistic__C': [0.001, 0.01, 0.1, 1, 10, 100]}\n",
    "\n",
    "# Use GridSearchCV to find the best hyperparameters\n",
    "\n",
    "\n",
    "# Logging into MLflow\n",
    "with mlflow.start_run(run_name=\"Logistic Regression with Pipeline\", nested = True):\n",
    "    clf_lr = GridSearchCV(pipeline, parameters, cv=5, n_jobs=-1)\n",
    "    # Fit the model\n",
    "    clf_lr.fit(X_train, y_train)\n",
    "    \n",
    "    # Predict probabilities for test data\n",
    "    y_probs = clf_lr.predict_proba(X_test)[:, 1]\n",
    "    \n",
    "    # Evaluate the logistic regression model\n",
    "    score = clf_lr.score(X_test, y_test)\n",
    "    tn, fp, fn, tp = confusion_matrix(y_test, y_probs > 0.5).ravel()\n",
    "    \n",
    "    # Calculate total cost and minimum cost threshold\n",
    "    cost, min_threshold = total_cost(y_test, y_probs), min_cost_threshold(y_test, y_probs)\n",
    "    \n",
    "    # Log parameters, metrics, and model artifacts with MLflow\n",
    "    mlflow.log_params(clf_lr.best_params_)\n",
    "    mlflow.log_metric(\"accuracy\", score)\n",
    "    mlflow.log_metric(\"total_cost\", cost)\n",
    "    mlflow.log_metric(\"min_cost_threshold\", min_threshold[0])\n",
    "\n",
    "     # Plot total cost vs threshold curve\n",
    "    thresholds = np.arange(0, 1.1, 0.1)\n",
    "    costs = [total_cost(y_test, y_probs, threshold) for threshold in thresholds]\n",
    "    plt.plot(thresholds, costs)\n",
    "    plt.ylabel('Cost')\n",
    "    plt.xlabel('Threshold')\n",
    "    plt.title('Total Cost vs Threshold Curve')\n",
    "    plt.savefig('total_cost_vs_threshold.png')\n",
    "    mlflow.log_artifact('total_cost_vs_threshold.png')\n",
    "    \n",
    "    # Log the final model\n",
    "    mlflow.sklearn.log_model(clf_lr.best_estimator_, artifact_path=\"logistic_regression_pipeline\", registered_model_name=\"logistic_regression_pipeline\", input_example=X_train)"
   ]
  },
  {
   "cell_type": "code",
   "execution_count": 91,
   "metadata": {},
   "outputs": [
    {
     "data": {
      "text/plain": [
       "{'C': 1.0,\n",
       " 'class_weight': 'balanced',\n",
       " 'dual': False,\n",
       " 'fit_intercept': True,\n",
       " 'intercept_scaling': 1,\n",
       " 'l1_ratio': None,\n",
       " 'max_iter': 500,\n",
       " 'multi_class': 'auto',\n",
       " 'n_jobs': None,\n",
       " 'penalty': 'l2',\n",
       " 'random_state': 42,\n",
       " 'solver': 'lbfgs',\n",
       " 'tol': 0.0001,\n",
       " 'verbose': 0,\n",
       " 'warm_start': False}"
      ]
     },
     "execution_count": 91,
     "metadata": {},
     "output_type": "execute_result"
    }
   ],
   "source": [
    "params=logistic.get_params()\n",
    "mlflow.log_params(params)\n",
    "params"
   ]
  },
  {
   "cell_type": "code",
   "execution_count": 92,
   "metadata": {},
   "outputs": [],
   "source": [
    "mlflow.end_run()"
   ]
  }
 ],
 "metadata": {
  "kernelspec": {
   "display_name": "rumos_bank",
   "language": "python",
   "name": "python3"
  },
  "language_info": {
   "codemirror_mode": {
    "name": "ipython",
    "version": 3
   },
   "file_extension": ".py",
   "mimetype": "text/x-python",
   "name": "python",
   "nbconvert_exporter": "python",
   "pygments_lexer": "ipython3",
   "version": "3.11.9"
  }
 },
 "nbformat": 4,
 "nbformat_minor": 2
}
