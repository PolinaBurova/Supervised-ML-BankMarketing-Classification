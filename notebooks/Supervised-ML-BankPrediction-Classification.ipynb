{
 "cells": [
  {
   "cell_type": "markdown",
   "metadata": {
    "id": "5kCJU90teZS2"
   },
   "source": [
    "# The Rumos Bank Marketing Campaign\n",
    "\n",
    "\n",
    "The marketing team wants to launch a new campaign aimed at convincing customers to open term deposits.\n",
    "\n",
    "Until now, the strategy was to call as many people as possible indiscriminately and try to sell them the product. However, this approach not only consumes more resources because it requires having several people call all the customers, but it is also inconvenient for some customers who do not like to be disturbed with such calls. Upon review, it was concluded that:\n",
    "\n",
    "For each customer identified as a good candidate and targeted by the campaign but does not adhere to the term deposit, the bank incurs a cost of 500 euros.\n",
    "For each customer identified as a bad candidate and thus not targeted by the campaign but who actually was a good candidate and would have adhered, the bank incurs a cost of 2000 euros.\n",
    "\n",
    "Based on this information, we will create a model that selects the best candidates to target for the campaign, in order to reduce costs.\n"
   ]
  },
  {
   "cell_type": "markdown",
   "metadata": {
    "id": "ZI8bRkaueZS3"
   },
   "source": [
    "**Dataset features details:**\n",
    "\n",
    "    1 - age\n",
    "    2 - job : type of job\n",
    "    3 - marital : marital status\n",
    "    4 - education\n",
    "    5 - default: has credit in default?\n",
    "    6 - housing: has housing loan?\n",
    "    7 - loan: has personal loan?\n",
    "    8 - pdays: number of days that passed by after the client was last contacted from a previous campaign\n",
    "    9 - previous: number of contacts performed before this campaign and for this client\n",
    "    10 - poutcome: outcome of the previous marketing campaign\n",
    "    11 - emp.var.rate: employment variation rate - quarterly indicator\n",
    "    12 - cons.price.idx: consumer price index - monthly indicator\n",
    "    13 - cons.conf.idx: consumer confidence index - monthly indicator\n",
    "    14 - euribor3m: euribor 3 month rate - daily indicator\n",
    "    15 - nr.employed: number of employees - quarterly indicator\n",
    "\n",
    "**Output:**\n",
    "    \n",
    "    y: has the client subscribed a term deposit?\n",
    "    \n",
    "   "
   ]
  },
  {
   "cell_type": "code",
   "execution_count": 285,
   "metadata": {
    "id": "X-sBZQ2HzTSL"
   },
   "outputs": [],
   "source": [
    "import pandas as pd\n",
    "import numpy as np\n",
    "import matplotlib.pyplot as plt\n",
    "from sklearn.metrics import  precision_recall_curve, roc_auc_score, confusion_matrix, accuracy_score, recall_score, precision_score, f1_score,auc, roc_curve\n",
    "import pandas as pd\n",
    "from sklearn.model_selection import train_test_split\n",
    "from sklearn.preprocessing import MinMaxScaler\n",
    "from sklearn.model_selection import GridSearchCV\n",
    "from sklearn.ensemble import RandomForestClassifier\n",
    "from sklearn.linear_model import LogisticRegression\n",
    "from sklearn.neighbors import KNeighborsClassifier\n",
    "from sklearn.svm import SVC\n",
    "from sklearn import tree\n",
    "from sklearn.linear_model import Perceptron\n",
    "from sklearn.neural_network import MLPClassifier\n",
    "\n",
    "seed = 42"
   ]
  },
  {
   "cell_type": "code",
   "execution_count": 286,
   "metadata": {
    "id": "n8lubR7ReZS-"
   },
   "outputs": [],
   "source": [
    "df = pd.read_csv('bank_marketing_campaign.csv', low_memory=False)"
   ]
  },
  {
   "cell_type": "markdown",
   "metadata": {},
   "source": [
    "### Exploratory Data Analysis"
   ]
  },
  {
   "cell_type": "markdown",
   "metadata": {
    "id": "6mTbReP9y8zA"
   },
   "source": [
    "Let's start by defining the confusion matrix:\n",
    "\n",
    "    True Positive (TP): Correctly identified as a good candidate.\n",
    "    True Negative (TN): Correctly identified as a bad candidate.\n",
    "    False Positive (FP): Incorrectly identified as a good candidate (cost: 500 euros).\n",
    "    False Negative (FN): Incorrectly identified as a bad candidate (cost: 2000 euros)."
   ]
  },
  {
   "cell_type": "code",
   "execution_count": 287,
   "metadata": {
    "colab": {
     "base_uri": "https://localhost:8080/",
     "height": 206
    },
    "id": "IqFuwa22zjdB",
    "outputId": "d13bee69-6107-4a8f-b2eb-c191af99f47d"
   },
   "outputs": [
    {
     "data": {
      "text/html": [
       "<div>\n",
       "<style scoped>\n",
       "    .dataframe tbody tr th:only-of-type {\n",
       "        vertical-align: middle;\n",
       "    }\n",
       "\n",
       "    .dataframe tbody tr th {\n",
       "        vertical-align: top;\n",
       "    }\n",
       "\n",
       "    .dataframe thead th {\n",
       "        text-align: right;\n",
       "    }\n",
       "</style>\n",
       "<table border=\"1\" class=\"dataframe\">\n",
       "  <thead>\n",
       "    <tr style=\"text-align: right;\">\n",
       "      <th></th>\n",
       "      <th>age</th>\n",
       "      <th>job</th>\n",
       "      <th>marital</th>\n",
       "      <th>education</th>\n",
       "      <th>default</th>\n",
       "      <th>housing</th>\n",
       "      <th>loan</th>\n",
       "      <th>pdays</th>\n",
       "      <th>previous</th>\n",
       "      <th>poutcome</th>\n",
       "      <th>emp.var.rate</th>\n",
       "      <th>cons.price.idx</th>\n",
       "      <th>cons.conf.idx</th>\n",
       "      <th>euribor3m</th>\n",
       "      <th>nr.employed</th>\n",
       "      <th>y</th>\n",
       "    </tr>\n",
       "  </thead>\n",
       "  <tbody>\n",
       "    <tr>\n",
       "      <th>0</th>\n",
       "      <td>56</td>\n",
       "      <td>housemaid</td>\n",
       "      <td>married</td>\n",
       "      <td>basic.4y</td>\n",
       "      <td>no</td>\n",
       "      <td>no</td>\n",
       "      <td>no</td>\n",
       "      <td>999</td>\n",
       "      <td>0</td>\n",
       "      <td>nonexistent</td>\n",
       "      <td>1.1</td>\n",
       "      <td>93.994</td>\n",
       "      <td>-36.4</td>\n",
       "      <td>4.857</td>\n",
       "      <td>5191.0</td>\n",
       "      <td>no</td>\n",
       "    </tr>\n",
       "    <tr>\n",
       "      <th>1</th>\n",
       "      <td>57</td>\n",
       "      <td>services</td>\n",
       "      <td>married</td>\n",
       "      <td>high.school</td>\n",
       "      <td>unknown</td>\n",
       "      <td>no</td>\n",
       "      <td>no</td>\n",
       "      <td>999</td>\n",
       "      <td>0</td>\n",
       "      <td>nonexistent</td>\n",
       "      <td>1.1</td>\n",
       "      <td>93.994</td>\n",
       "      <td>-36.4</td>\n",
       "      <td>4.857</td>\n",
       "      <td>5191.0</td>\n",
       "      <td>no</td>\n",
       "    </tr>\n",
       "    <tr>\n",
       "      <th>2</th>\n",
       "      <td>37</td>\n",
       "      <td>services</td>\n",
       "      <td>married</td>\n",
       "      <td>high.school</td>\n",
       "      <td>no</td>\n",
       "      <td>yes</td>\n",
       "      <td>no</td>\n",
       "      <td>999</td>\n",
       "      <td>0</td>\n",
       "      <td>nonexistent</td>\n",
       "      <td>1.1</td>\n",
       "      <td>93.994</td>\n",
       "      <td>-36.4</td>\n",
       "      <td>4.857</td>\n",
       "      <td>5191.0</td>\n",
       "      <td>no</td>\n",
       "    </tr>\n",
       "    <tr>\n",
       "      <th>3</th>\n",
       "      <td>40</td>\n",
       "      <td>admin.</td>\n",
       "      <td>married</td>\n",
       "      <td>basic.6y</td>\n",
       "      <td>no</td>\n",
       "      <td>no</td>\n",
       "      <td>no</td>\n",
       "      <td>999</td>\n",
       "      <td>0</td>\n",
       "      <td>nonexistent</td>\n",
       "      <td>1.1</td>\n",
       "      <td>93.994</td>\n",
       "      <td>-36.4</td>\n",
       "      <td>4.857</td>\n",
       "      <td>5191.0</td>\n",
       "      <td>no</td>\n",
       "    </tr>\n",
       "    <tr>\n",
       "      <th>4</th>\n",
       "      <td>56</td>\n",
       "      <td>services</td>\n",
       "      <td>married</td>\n",
       "      <td>high.school</td>\n",
       "      <td>no</td>\n",
       "      <td>no</td>\n",
       "      <td>yes</td>\n",
       "      <td>999</td>\n",
       "      <td>0</td>\n",
       "      <td>nonexistent</td>\n",
       "      <td>1.1</td>\n",
       "      <td>93.994</td>\n",
       "      <td>-36.4</td>\n",
       "      <td>4.857</td>\n",
       "      <td>5191.0</td>\n",
       "      <td>no</td>\n",
       "    </tr>\n",
       "  </tbody>\n",
       "</table>\n",
       "</div>"
      ],
      "text/plain": [
       "   age        job  marital    education  default housing loan  pdays  \\\n",
       "0   56  housemaid  married     basic.4y       no      no   no    999   \n",
       "1   57   services  married  high.school  unknown      no   no    999   \n",
       "2   37   services  married  high.school       no     yes   no    999   \n",
       "3   40     admin.  married     basic.6y       no      no   no    999   \n",
       "4   56   services  married  high.school       no      no  yes    999   \n",
       "\n",
       "   previous     poutcome  emp.var.rate  cons.price.idx  cons.conf.idx  \\\n",
       "0         0  nonexistent           1.1          93.994          -36.4   \n",
       "1         0  nonexistent           1.1          93.994          -36.4   \n",
       "2         0  nonexistent           1.1          93.994          -36.4   \n",
       "3         0  nonexistent           1.1          93.994          -36.4   \n",
       "4         0  nonexistent           1.1          93.994          -36.4   \n",
       "\n",
       "   euribor3m  nr.employed   y  \n",
       "0      4.857       5191.0  no  \n",
       "1      4.857       5191.0  no  \n",
       "2      4.857       5191.0  no  \n",
       "3      4.857       5191.0  no  \n",
       "4      4.857       5191.0  no  "
      ]
     },
     "execution_count": 287,
     "metadata": {},
     "output_type": "execute_result"
    }
   ],
   "source": [
    "df.head()"
   ]
  },
  {
   "cell_type": "code",
   "execution_count": 288,
   "metadata": {
    "colab": {
     "base_uri": "https://localhost:8080/"
    },
    "id": "N49QBVd_w5PS",
    "outputId": "eed3c5cc-0efb-4a85-9259-7415eb80955c"
   },
   "outputs": [
    {
     "data": {
      "text/plain": [
       "(41188, 16)"
      ]
     },
     "execution_count": 288,
     "metadata": {},
     "output_type": "execute_result"
    }
   ],
   "source": [
    "df.shape"
   ]
  },
  {
   "cell_type": "markdown",
   "metadata": {
    "id": "Yq-A75E70ZRh"
   },
   "source": [
    "The dataset contains 41,188 clients and 15 features. It represents a supervised classification problem. The target variable, \"y,\" with values \"yes\" and \"no\", indicates the binary classification nature of the task."
   ]
  },
  {
   "cell_type": "code",
   "execution_count": 289,
   "metadata": {
    "colab": {
     "base_uri": "https://localhost:8080/"
    },
    "id": "6vozOMem0nyb",
    "outputId": "bd056815-0139-4d57-fb20-e6e64f28b4c3"
   },
   "outputs": [
    {
     "data": {
      "text/plain": [
       "y\n",
       "no     36548\n",
       "yes     4640\n",
       "Name: count, dtype: int64"
      ]
     },
     "execution_count": 289,
     "metadata": {},
     "output_type": "execute_result"
    }
   ],
   "source": [
    "df.y.value_counts()"
   ]
  },
  {
   "cell_type": "code",
   "execution_count": 290,
   "metadata": {
    "colab": {
     "base_uri": "https://localhost:8080/"
    },
    "id": "ms7nwDLc0pUE",
    "outputId": "afdc7710-32b8-4abd-de43-315790d08bdf"
   },
   "outputs": [
    {
     "data": {
      "text/plain": [
       "y\n",
       "no     88.734583\n",
       "yes    11.265417\n",
       "Name: proportion, dtype: float64"
      ]
     },
     "execution_count": 290,
     "metadata": {},
     "output_type": "execute_result"
    }
   ],
   "source": [
    "df.y.value_counts(normalize = True)*100"
   ]
  },
  {
   "cell_type": "markdown",
   "metadata": {
    "id": "T2-BzIcY1i9Z"
   },
   "source": [
    "We have an imbalanced class distribution of the target variable: 36,548 clients (88%) have not subscribed to a term deposit, while only 4,640 clients (11.2%) have subscribed."
   ]
  },
  {
   "cell_type": "markdown",
   "metadata": {
    "id": "ybNWvnnj4JXr"
   },
   "source": [
    "### Correlation Analysis"
   ]
  },
  {
   "cell_type": "markdown",
   "metadata": {
    "id": "Y3etjRMN5ytZ"
   },
   "source": [
    "Let's first split the analysis into numerical and categorical features:"
   ]
  },
  {
   "cell_type": "code",
   "execution_count": 291,
   "metadata": {
    "colab": {
     "base_uri": "https://localhost:8080/"
    },
    "id": "QIz-PXfR6edU",
    "outputId": "9b440b92-95e7-4282-be0c-26fcd3ad4861"
   },
   "outputs": [
    {
     "data": {
      "text/plain": [
       "age                 int64\n",
       "job                object\n",
       "marital            object\n",
       "education          object\n",
       "default            object\n",
       "housing            object\n",
       "loan               object\n",
       "pdays               int64\n",
       "previous            int64\n",
       "poutcome           object\n",
       "emp.var.rate      float64\n",
       "cons.price.idx    float64\n",
       "cons.conf.idx     float64\n",
       "euribor3m         float64\n",
       "nr.employed       float64\n",
       "y                  object\n",
       "dtype: object"
      ]
     },
     "execution_count": 291,
     "metadata": {},
     "output_type": "execute_result"
    }
   ],
   "source": [
    "df.dtypes"
   ]
  },
  {
   "cell_type": "code",
   "execution_count": 292,
   "metadata": {
    "colab": {
     "base_uri": "https://localhost:8080/"
    },
    "id": "5pBQgzu_50vL",
    "outputId": "3eae397a-2ab6-46a1-abb0-4f254aa465cd"
   },
   "outputs": [
    {
     "data": {
      "text/plain": [
       "object     8\n",
       "float64    5\n",
       "int64      3\n",
       "Name: count, dtype: int64"
      ]
     },
     "execution_count": 292,
     "metadata": {},
     "output_type": "execute_result"
    }
   ],
   "source": [
    "df.dtypes.value_counts()"
   ]
  },
  {
   "cell_type": "code",
   "execution_count": 293,
   "metadata": {
    "colab": {
     "base_uri": "https://localhost:8080/",
     "height": 112
    },
    "id": "nT6IOqXA7-wQ",
    "outputId": "a2739a30-638f-466c-8a9c-cd4051d1f6d9"
   },
   "outputs": [
    {
     "data": {
      "text/html": [
       "<div>\n",
       "<style scoped>\n",
       "    .dataframe tbody tr th:only-of-type {\n",
       "        vertical-align: middle;\n",
       "    }\n",
       "\n",
       "    .dataframe tbody tr th {\n",
       "        vertical-align: top;\n",
       "    }\n",
       "\n",
       "    .dataframe thead th {\n",
       "        text-align: right;\n",
       "    }\n",
       "</style>\n",
       "<table border=\"1\" class=\"dataframe\">\n",
       "  <thead>\n",
       "    <tr style=\"text-align: right;\">\n",
       "      <th></th>\n",
       "      <th>age</th>\n",
       "      <th>job</th>\n",
       "      <th>marital</th>\n",
       "      <th>education</th>\n",
       "      <th>default</th>\n",
       "      <th>housing</th>\n",
       "      <th>loan</th>\n",
       "      <th>pdays</th>\n",
       "      <th>previous</th>\n",
       "      <th>poutcome</th>\n",
       "      <th>emp.var.rate</th>\n",
       "      <th>cons.price.idx</th>\n",
       "      <th>cons.conf.idx</th>\n",
       "      <th>euribor3m</th>\n",
       "      <th>nr.employed</th>\n",
       "      <th>y</th>\n",
       "    </tr>\n",
       "  </thead>\n",
       "  <tbody>\n",
       "    <tr>\n",
       "      <th>0</th>\n",
       "      <td>56</td>\n",
       "      <td>housemaid</td>\n",
       "      <td>married</td>\n",
       "      <td>basic.4y</td>\n",
       "      <td>no</td>\n",
       "      <td>no</td>\n",
       "      <td>no</td>\n",
       "      <td>999</td>\n",
       "      <td>0</td>\n",
       "      <td>nonexistent</td>\n",
       "      <td>1.1</td>\n",
       "      <td>93.994</td>\n",
       "      <td>-36.4</td>\n",
       "      <td>4.857</td>\n",
       "      <td>5191.0</td>\n",
       "      <td>no</td>\n",
       "    </tr>\n",
       "    <tr>\n",
       "      <th>1</th>\n",
       "      <td>57</td>\n",
       "      <td>services</td>\n",
       "      <td>married</td>\n",
       "      <td>high.school</td>\n",
       "      <td>unknown</td>\n",
       "      <td>no</td>\n",
       "      <td>no</td>\n",
       "      <td>999</td>\n",
       "      <td>0</td>\n",
       "      <td>nonexistent</td>\n",
       "      <td>1.1</td>\n",
       "      <td>93.994</td>\n",
       "      <td>-36.4</td>\n",
       "      <td>4.857</td>\n",
       "      <td>5191.0</td>\n",
       "      <td>no</td>\n",
       "    </tr>\n",
       "  </tbody>\n",
       "</table>\n",
       "</div>"
      ],
      "text/plain": [
       "   age        job  marital    education  default housing loan  pdays  \\\n",
       "0   56  housemaid  married     basic.4y       no      no   no    999   \n",
       "1   57   services  married  high.school  unknown      no   no    999   \n",
       "\n",
       "   previous     poutcome  emp.var.rate  cons.price.idx  cons.conf.idx  \\\n",
       "0         0  nonexistent           1.1          93.994          -36.4   \n",
       "1         0  nonexistent           1.1          93.994          -36.4   \n",
       "\n",
       "   euribor3m  nr.employed   y  \n",
       "0      4.857       5191.0  no  \n",
       "1      4.857       5191.0  no  "
      ]
     },
     "execution_count": 293,
     "metadata": {},
     "output_type": "execute_result"
    }
   ],
   "source": [
    "df.head(2)"
   ]
  },
  {
   "cell_type": "code",
   "execution_count": 294,
   "metadata": {
    "colab": {
     "base_uri": "https://localhost:8080/",
     "height": 143
    },
    "id": "X-ppKcLZ65t1",
    "outputId": "f802a3e8-5a1a-4d24-8812-7727003670c9"
   },
   "outputs": [
    {
     "data": {
      "text/html": [
       "<div>\n",
       "<style scoped>\n",
       "    .dataframe tbody tr th:only-of-type {\n",
       "        vertical-align: middle;\n",
       "    }\n",
       "\n",
       "    .dataframe tbody tr th {\n",
       "        vertical-align: top;\n",
       "    }\n",
       "\n",
       "    .dataframe thead th {\n",
       "        text-align: right;\n",
       "    }\n",
       "</style>\n",
       "<table border=\"1\" class=\"dataframe\">\n",
       "  <thead>\n",
       "    <tr style=\"text-align: right;\">\n",
       "      <th></th>\n",
       "      <th>age</th>\n",
       "      <th>job</th>\n",
       "      <th>marital</th>\n",
       "      <th>education</th>\n",
       "      <th>default</th>\n",
       "      <th>housing</th>\n",
       "      <th>loan</th>\n",
       "      <th>pdays</th>\n",
       "      <th>previous</th>\n",
       "      <th>poutcome</th>\n",
       "      <th>emp.var.rate</th>\n",
       "      <th>cons.price.idx</th>\n",
       "      <th>cons.conf.idx</th>\n",
       "      <th>euribor3m</th>\n",
       "      <th>nr.employed</th>\n",
       "      <th>y</th>\n",
       "    </tr>\n",
       "  </thead>\n",
       "  <tbody>\n",
       "    <tr>\n",
       "      <th>0</th>\n",
       "      <td>56</td>\n",
       "      <td>housemaid</td>\n",
       "      <td>married</td>\n",
       "      <td>basic.4y</td>\n",
       "      <td>no</td>\n",
       "      <td>no</td>\n",
       "      <td>no</td>\n",
       "      <td>999</td>\n",
       "      <td>0</td>\n",
       "      <td>nonexistent</td>\n",
       "      <td>1.1</td>\n",
       "      <td>93.994</td>\n",
       "      <td>-36.4</td>\n",
       "      <td>4.857</td>\n",
       "      <td>5191.0</td>\n",
       "      <td>0</td>\n",
       "    </tr>\n",
       "    <tr>\n",
       "      <th>1</th>\n",
       "      <td>57</td>\n",
       "      <td>services</td>\n",
       "      <td>married</td>\n",
       "      <td>high.school</td>\n",
       "      <td>unknown</td>\n",
       "      <td>no</td>\n",
       "      <td>no</td>\n",
       "      <td>999</td>\n",
       "      <td>0</td>\n",
       "      <td>nonexistent</td>\n",
       "      <td>1.1</td>\n",
       "      <td>93.994</td>\n",
       "      <td>-36.4</td>\n",
       "      <td>4.857</td>\n",
       "      <td>5191.0</td>\n",
       "      <td>0</td>\n",
       "    </tr>\n",
       "    <tr>\n",
       "      <th>2</th>\n",
       "      <td>37</td>\n",
       "      <td>services</td>\n",
       "      <td>married</td>\n",
       "      <td>high.school</td>\n",
       "      <td>no</td>\n",
       "      <td>yes</td>\n",
       "      <td>no</td>\n",
       "      <td>999</td>\n",
       "      <td>0</td>\n",
       "      <td>nonexistent</td>\n",
       "      <td>1.1</td>\n",
       "      <td>93.994</td>\n",
       "      <td>-36.4</td>\n",
       "      <td>4.857</td>\n",
       "      <td>5191.0</td>\n",
       "      <td>0</td>\n",
       "    </tr>\n",
       "  </tbody>\n",
       "</table>\n",
       "</div>"
      ],
      "text/plain": [
       "   age        job  marital    education  default housing loan  pdays  \\\n",
       "0   56  housemaid  married     basic.4y       no      no   no    999   \n",
       "1   57   services  married  high.school  unknown      no   no    999   \n",
       "2   37   services  married  high.school       no     yes   no    999   \n",
       "\n",
       "   previous     poutcome  emp.var.rate  cons.price.idx  cons.conf.idx  \\\n",
       "0         0  nonexistent           1.1          93.994          -36.4   \n",
       "1         0  nonexistent           1.1          93.994          -36.4   \n",
       "2         0  nonexistent           1.1          93.994          -36.4   \n",
       "\n",
       "   euribor3m  nr.employed  y  \n",
       "0      4.857       5191.0  0  \n",
       "1      4.857       5191.0  0  \n",
       "2      4.857       5191.0  0  "
      ]
     },
     "execution_count": 294,
     "metadata": {},
     "output_type": "execute_result"
    }
   ],
   "source": [
    "#Start by mapping values 0 and 1 to target feature 'yes' and 'no':\n",
    "\n",
    "#Convert the values to lowercase to ensure consistency.\n",
    "df['y'] = df['y'].str.strip().str.lower()\n",
    "\n",
    "# Map the values to 1 and 0\n",
    "df['y'] = df['y'].map({'yes': 1, 'no': 0})\n",
    "df.head(3)"
   ]
  },
  {
   "cell_type": "code",
   "execution_count": 295,
   "metadata": {
    "colab": {
     "base_uri": "https://localhost:8080/",
     "height": 112
    },
    "id": "PrRETlvF5x6i",
    "outputId": "0e560409-8650-4492-dd61-2971bd23782d"
   },
   "outputs": [
    {
     "data": {
      "text/html": [
       "<div>\n",
       "<style scoped>\n",
       "    .dataframe tbody tr th:only-of-type {\n",
       "        vertical-align: middle;\n",
       "    }\n",
       "\n",
       "    .dataframe tbody tr th {\n",
       "        vertical-align: top;\n",
       "    }\n",
       "\n",
       "    .dataframe thead th {\n",
       "        text-align: right;\n",
       "    }\n",
       "</style>\n",
       "<table border=\"1\" class=\"dataframe\">\n",
       "  <thead>\n",
       "    <tr style=\"text-align: right;\">\n",
       "      <th></th>\n",
       "      <th>age</th>\n",
       "      <th>pdays</th>\n",
       "      <th>previous</th>\n",
       "      <th>emp.var.rate</th>\n",
       "      <th>cons.price.idx</th>\n",
       "      <th>cons.conf.idx</th>\n",
       "      <th>euribor3m</th>\n",
       "      <th>nr.employed</th>\n",
       "      <th>y</th>\n",
       "    </tr>\n",
       "  </thead>\n",
       "  <tbody>\n",
       "    <tr>\n",
       "      <th>0</th>\n",
       "      <td>56</td>\n",
       "      <td>999</td>\n",
       "      <td>0</td>\n",
       "      <td>1.1</td>\n",
       "      <td>93.994</td>\n",
       "      <td>-36.4</td>\n",
       "      <td>4.857</td>\n",
       "      <td>5191.0</td>\n",
       "      <td>0</td>\n",
       "    </tr>\n",
       "    <tr>\n",
       "      <th>1</th>\n",
       "      <td>57</td>\n",
       "      <td>999</td>\n",
       "      <td>0</td>\n",
       "      <td>1.1</td>\n",
       "      <td>93.994</td>\n",
       "      <td>-36.4</td>\n",
       "      <td>4.857</td>\n",
       "      <td>5191.0</td>\n",
       "      <td>0</td>\n",
       "    </tr>\n",
       "  </tbody>\n",
       "</table>\n",
       "</div>"
      ],
      "text/plain": [
       "   age  pdays  previous  emp.var.rate  cons.price.idx  cons.conf.idx  \\\n",
       "0   56    999         0           1.1          93.994          -36.4   \n",
       "1   57    999         0           1.1          93.994          -36.4   \n",
       "\n",
       "   euribor3m  nr.employed  y  \n",
       "0      4.857       5191.0  0  \n",
       "1      4.857       5191.0  0  "
      ]
     },
     "execution_count": 295,
     "metadata": {},
     "output_type": "execute_result"
    }
   ],
   "source": [
    "numerical_df = df.select_dtypes(include = ['number']).copy()\n",
    "numerical_df.head(2)"
   ]
  },
  {
   "cell_type": "code",
   "execution_count": 296,
   "metadata": {
    "colab": {
     "base_uri": "https://localhost:8080/",
     "height": 424
    },
    "id": "xrN8x8zg6FkQ",
    "outputId": "ac7176df-9bd5-4969-cf03-bf91ed46d11e"
   },
   "outputs": [
    {
     "data": {
      "text/html": [
       "<div>\n",
       "<style scoped>\n",
       "    .dataframe tbody tr th:only-of-type {\n",
       "        vertical-align: middle;\n",
       "    }\n",
       "\n",
       "    .dataframe tbody tr th {\n",
       "        vertical-align: top;\n",
       "    }\n",
       "\n",
       "    .dataframe thead th {\n",
       "        text-align: right;\n",
       "    }\n",
       "</style>\n",
       "<table border=\"1\" class=\"dataframe\">\n",
       "  <thead>\n",
       "    <tr style=\"text-align: right;\">\n",
       "      <th></th>\n",
       "      <th>job</th>\n",
       "      <th>marital</th>\n",
       "      <th>education</th>\n",
       "      <th>default</th>\n",
       "      <th>housing</th>\n",
       "      <th>loan</th>\n",
       "      <th>poutcome</th>\n",
       "      <th>y</th>\n",
       "    </tr>\n",
       "  </thead>\n",
       "  <tbody>\n",
       "    <tr>\n",
       "      <th>0</th>\n",
       "      <td>housemaid</td>\n",
       "      <td>married</td>\n",
       "      <td>basic.4y</td>\n",
       "      <td>no</td>\n",
       "      <td>no</td>\n",
       "      <td>no</td>\n",
       "      <td>nonexistent</td>\n",
       "      <td>0</td>\n",
       "    </tr>\n",
       "    <tr>\n",
       "      <th>1</th>\n",
       "      <td>services</td>\n",
       "      <td>married</td>\n",
       "      <td>high.school</td>\n",
       "      <td>unknown</td>\n",
       "      <td>no</td>\n",
       "      <td>no</td>\n",
       "      <td>nonexistent</td>\n",
       "      <td>0</td>\n",
       "    </tr>\n",
       "    <tr>\n",
       "      <th>2</th>\n",
       "      <td>services</td>\n",
       "      <td>married</td>\n",
       "      <td>high.school</td>\n",
       "      <td>no</td>\n",
       "      <td>yes</td>\n",
       "      <td>no</td>\n",
       "      <td>nonexistent</td>\n",
       "      <td>0</td>\n",
       "    </tr>\n",
       "    <tr>\n",
       "      <th>3</th>\n",
       "      <td>admin.</td>\n",
       "      <td>married</td>\n",
       "      <td>basic.6y</td>\n",
       "      <td>no</td>\n",
       "      <td>no</td>\n",
       "      <td>no</td>\n",
       "      <td>nonexistent</td>\n",
       "      <td>0</td>\n",
       "    </tr>\n",
       "    <tr>\n",
       "      <th>4</th>\n",
       "      <td>services</td>\n",
       "      <td>married</td>\n",
       "      <td>high.school</td>\n",
       "      <td>no</td>\n",
       "      <td>no</td>\n",
       "      <td>yes</td>\n",
       "      <td>nonexistent</td>\n",
       "      <td>0</td>\n",
       "    </tr>\n",
       "    <tr>\n",
       "      <th>...</th>\n",
       "      <td>...</td>\n",
       "      <td>...</td>\n",
       "      <td>...</td>\n",
       "      <td>...</td>\n",
       "      <td>...</td>\n",
       "      <td>...</td>\n",
       "      <td>...</td>\n",
       "      <td>...</td>\n",
       "    </tr>\n",
       "    <tr>\n",
       "      <th>41183</th>\n",
       "      <td>retired</td>\n",
       "      <td>married</td>\n",
       "      <td>professional.course</td>\n",
       "      <td>no</td>\n",
       "      <td>yes</td>\n",
       "      <td>no</td>\n",
       "      <td>nonexistent</td>\n",
       "      <td>1</td>\n",
       "    </tr>\n",
       "    <tr>\n",
       "      <th>41184</th>\n",
       "      <td>blue-collar</td>\n",
       "      <td>married</td>\n",
       "      <td>professional.course</td>\n",
       "      <td>no</td>\n",
       "      <td>no</td>\n",
       "      <td>no</td>\n",
       "      <td>nonexistent</td>\n",
       "      <td>0</td>\n",
       "    </tr>\n",
       "    <tr>\n",
       "      <th>41185</th>\n",
       "      <td>retired</td>\n",
       "      <td>married</td>\n",
       "      <td>university.degree</td>\n",
       "      <td>no</td>\n",
       "      <td>yes</td>\n",
       "      <td>no</td>\n",
       "      <td>nonexistent</td>\n",
       "      <td>0</td>\n",
       "    </tr>\n",
       "    <tr>\n",
       "      <th>41186</th>\n",
       "      <td>technician</td>\n",
       "      <td>married</td>\n",
       "      <td>professional.course</td>\n",
       "      <td>no</td>\n",
       "      <td>no</td>\n",
       "      <td>no</td>\n",
       "      <td>nonexistent</td>\n",
       "      <td>1</td>\n",
       "    </tr>\n",
       "    <tr>\n",
       "      <th>41187</th>\n",
       "      <td>retired</td>\n",
       "      <td>married</td>\n",
       "      <td>professional.course</td>\n",
       "      <td>no</td>\n",
       "      <td>yes</td>\n",
       "      <td>no</td>\n",
       "      <td>failure</td>\n",
       "      <td>0</td>\n",
       "    </tr>\n",
       "  </tbody>\n",
       "</table>\n",
       "<p>41188 rows × 8 columns</p>\n",
       "</div>"
      ],
      "text/plain": [
       "               job  marital            education  default housing loan  \\\n",
       "0        housemaid  married             basic.4y       no      no   no   \n",
       "1         services  married          high.school  unknown      no   no   \n",
       "2         services  married          high.school       no     yes   no   \n",
       "3           admin.  married             basic.6y       no      no   no   \n",
       "4         services  married          high.school       no      no  yes   \n",
       "...            ...      ...                  ...      ...     ...  ...   \n",
       "41183      retired  married  professional.course       no     yes   no   \n",
       "41184  blue-collar  married  professional.course       no      no   no   \n",
       "41185      retired  married    university.degree       no     yes   no   \n",
       "41186   technician  married  professional.course       no      no   no   \n",
       "41187      retired  married  professional.course       no     yes   no   \n",
       "\n",
       "          poutcome  y  \n",
       "0      nonexistent  0  \n",
       "1      nonexistent  0  \n",
       "2      nonexistent  0  \n",
       "3      nonexistent  0  \n",
       "4      nonexistent  0  \n",
       "...            ... ..  \n",
       "41183  nonexistent  1  \n",
       "41184  nonexistent  0  \n",
       "41185  nonexistent  0  \n",
       "41186  nonexistent  1  \n",
       "41187      failure  0  \n",
       "\n",
       "[41188 rows x 8 columns]"
      ]
     },
     "execution_count": 296,
     "metadata": {},
     "output_type": "execute_result"
    }
   ],
   "source": [
    "categorical_df = df.select_dtypes(include = ['object']).copy()\n",
    "categorical_df[\"y\"] = df[\"y\"]\n",
    "categorical_df"
   ]
  },
  {
   "cell_type": "markdown",
   "metadata": {
    "id": "wzwsRVxG9vQG"
   },
   "source": [
    "**Numeric features correlation:**"
   ]
  },
  {
   "cell_type": "code",
   "execution_count": 297,
   "metadata": {
    "colab": {
     "base_uri": "https://localhost:8080/",
     "height": 332
    },
    "id": "-Xeq4pMA9uuM",
    "outputId": "4539c8b5-0e73-431e-d016-d03f3f105b77"
   },
   "outputs": [
    {
     "data": {
      "text/html": [
       "<div>\n",
       "<style scoped>\n",
       "    .dataframe tbody tr th:only-of-type {\n",
       "        vertical-align: middle;\n",
       "    }\n",
       "\n",
       "    .dataframe tbody tr th {\n",
       "        vertical-align: top;\n",
       "    }\n",
       "\n",
       "    .dataframe thead th {\n",
       "        text-align: right;\n",
       "    }\n",
       "</style>\n",
       "<table border=\"1\" class=\"dataframe\">\n",
       "  <thead>\n",
       "    <tr style=\"text-align: right;\">\n",
       "      <th></th>\n",
       "      <th>age</th>\n",
       "      <th>pdays</th>\n",
       "      <th>previous</th>\n",
       "      <th>emp.var.rate</th>\n",
       "      <th>cons.price.idx</th>\n",
       "      <th>cons.conf.idx</th>\n",
       "      <th>euribor3m</th>\n",
       "      <th>nr.employed</th>\n",
       "      <th>y</th>\n",
       "    </tr>\n",
       "  </thead>\n",
       "  <tbody>\n",
       "    <tr>\n",
       "      <th>age</th>\n",
       "      <td>1.000000</td>\n",
       "      <td>-0.034369</td>\n",
       "      <td>0.024365</td>\n",
       "      <td>-0.000371</td>\n",
       "      <td>0.000857</td>\n",
       "      <td>0.129372</td>\n",
       "      <td>0.010767</td>\n",
       "      <td>-0.017725</td>\n",
       "      <td>0.030399</td>\n",
       "    </tr>\n",
       "    <tr>\n",
       "      <th>pdays</th>\n",
       "      <td>-0.034369</td>\n",
       "      <td>1.000000</td>\n",
       "      <td>-0.587514</td>\n",
       "      <td>0.271004</td>\n",
       "      <td>0.078889</td>\n",
       "      <td>-0.091342</td>\n",
       "      <td>0.296899</td>\n",
       "      <td>0.372605</td>\n",
       "      <td>-0.324914</td>\n",
       "    </tr>\n",
       "    <tr>\n",
       "      <th>previous</th>\n",
       "      <td>0.024365</td>\n",
       "      <td>-0.587514</td>\n",
       "      <td>1.000000</td>\n",
       "      <td>-0.420489</td>\n",
       "      <td>-0.203130</td>\n",
       "      <td>-0.050936</td>\n",
       "      <td>-0.454494</td>\n",
       "      <td>-0.501333</td>\n",
       "      <td>0.230181</td>\n",
       "    </tr>\n",
       "    <tr>\n",
       "      <th>emp.var.rate</th>\n",
       "      <td>-0.000371</td>\n",
       "      <td>0.271004</td>\n",
       "      <td>-0.420489</td>\n",
       "      <td>1.000000</td>\n",
       "      <td>0.775334</td>\n",
       "      <td>0.196041</td>\n",
       "      <td>0.972245</td>\n",
       "      <td>0.906970</td>\n",
       "      <td>-0.298334</td>\n",
       "    </tr>\n",
       "    <tr>\n",
       "      <th>cons.price.idx</th>\n",
       "      <td>0.000857</td>\n",
       "      <td>0.078889</td>\n",
       "      <td>-0.203130</td>\n",
       "      <td>0.775334</td>\n",
       "      <td>1.000000</td>\n",
       "      <td>0.058986</td>\n",
       "      <td>0.688230</td>\n",
       "      <td>0.522034</td>\n",
       "      <td>-0.136211</td>\n",
       "    </tr>\n",
       "    <tr>\n",
       "      <th>cons.conf.idx</th>\n",
       "      <td>0.129372</td>\n",
       "      <td>-0.091342</td>\n",
       "      <td>-0.050936</td>\n",
       "      <td>0.196041</td>\n",
       "      <td>0.058986</td>\n",
       "      <td>1.000000</td>\n",
       "      <td>0.277686</td>\n",
       "      <td>0.100513</td>\n",
       "      <td>0.054878</td>\n",
       "    </tr>\n",
       "    <tr>\n",
       "      <th>euribor3m</th>\n",
       "      <td>0.010767</td>\n",
       "      <td>0.296899</td>\n",
       "      <td>-0.454494</td>\n",
       "      <td>0.972245</td>\n",
       "      <td>0.688230</td>\n",
       "      <td>0.277686</td>\n",
       "      <td>1.000000</td>\n",
       "      <td>0.945154</td>\n",
       "      <td>-0.307771</td>\n",
       "    </tr>\n",
       "    <tr>\n",
       "      <th>nr.employed</th>\n",
       "      <td>-0.017725</td>\n",
       "      <td>0.372605</td>\n",
       "      <td>-0.501333</td>\n",
       "      <td>0.906970</td>\n",
       "      <td>0.522034</td>\n",
       "      <td>0.100513</td>\n",
       "      <td>0.945154</td>\n",
       "      <td>1.000000</td>\n",
       "      <td>-0.354678</td>\n",
       "    </tr>\n",
       "    <tr>\n",
       "      <th>y</th>\n",
       "      <td>0.030399</td>\n",
       "      <td>-0.324914</td>\n",
       "      <td>0.230181</td>\n",
       "      <td>-0.298334</td>\n",
       "      <td>-0.136211</td>\n",
       "      <td>0.054878</td>\n",
       "      <td>-0.307771</td>\n",
       "      <td>-0.354678</td>\n",
       "      <td>1.000000</td>\n",
       "    </tr>\n",
       "  </tbody>\n",
       "</table>\n",
       "</div>"
      ],
      "text/plain": [
       "                     age     pdays  previous  emp.var.rate  cons.price.idx  \\\n",
       "age             1.000000 -0.034369  0.024365     -0.000371        0.000857   \n",
       "pdays          -0.034369  1.000000 -0.587514      0.271004        0.078889   \n",
       "previous        0.024365 -0.587514  1.000000     -0.420489       -0.203130   \n",
       "emp.var.rate   -0.000371  0.271004 -0.420489      1.000000        0.775334   \n",
       "cons.price.idx  0.000857  0.078889 -0.203130      0.775334        1.000000   \n",
       "cons.conf.idx   0.129372 -0.091342 -0.050936      0.196041        0.058986   \n",
       "euribor3m       0.010767  0.296899 -0.454494      0.972245        0.688230   \n",
       "nr.employed    -0.017725  0.372605 -0.501333      0.906970        0.522034   \n",
       "y               0.030399 -0.324914  0.230181     -0.298334       -0.136211   \n",
       "\n",
       "                cons.conf.idx  euribor3m  nr.employed         y  \n",
       "age                  0.129372   0.010767    -0.017725  0.030399  \n",
       "pdays               -0.091342   0.296899     0.372605 -0.324914  \n",
       "previous            -0.050936  -0.454494    -0.501333  0.230181  \n",
       "emp.var.rate         0.196041   0.972245     0.906970 -0.298334  \n",
       "cons.price.idx       0.058986   0.688230     0.522034 -0.136211  \n",
       "cons.conf.idx        1.000000   0.277686     0.100513  0.054878  \n",
       "euribor3m            0.277686   1.000000     0.945154 -0.307771  \n",
       "nr.employed          0.100513   0.945154     1.000000 -0.354678  \n",
       "y                    0.054878  -0.307771    -0.354678  1.000000  "
      ]
     },
     "execution_count": 297,
     "metadata": {},
     "output_type": "execute_result"
    }
   ],
   "source": [
    "corr_pearson = numerical_df.corr(method = 'pearson')\n",
    "corr_pearson"
   ]
  },
  {
   "cell_type": "code",
   "execution_count": 298,
   "metadata": {
    "colab": {
     "base_uri": "https://localhost:8080/"
    },
    "id": "TXaxuYav_ECU",
    "outputId": "f9416c50-4dd4-4375-94d3-6a879bd5e95c"
   },
   "outputs": [
    {
     "data": {
      "text/plain": [
       "y                 1.000000\n",
       "previous          0.230181\n",
       "cons.conf.idx     0.054878\n",
       "age               0.030399\n",
       "cons.price.idx   -0.136211\n",
       "emp.var.rate     -0.298334\n",
       "euribor3m        -0.307771\n",
       "pdays            -0.324914\n",
       "nr.employed      -0.354678\n",
       "Name: y, dtype: float64"
      ]
     },
     "execution_count": 298,
     "metadata": {},
     "output_type": "execute_result"
    }
   ],
   "source": [
    "corr_pearson[\"y\"].sort_values(ascending = False)"
   ]
  },
  {
   "cell_type": "markdown",
   "metadata": {},
   "source": [
    "With p-value to see if the correlation is statistically significant (p-value must be < 0.05):"
   ]
  },
  {
   "cell_type": "code",
   "execution_count": 299,
   "metadata": {
    "id": "1C5fb9gA5WEG"
   },
   "outputs": [],
   "source": [
    "X = numerical_df.drop(columns=['y'])  \n",
    "y = numerical_df['y']"
   ]
  },
  {
   "cell_type": "code",
   "execution_count": 300,
   "metadata": {
    "colab": {
     "base_uri": "https://localhost:8080/"
    },
    "id": "vMstYYLw4a04",
    "outputId": "11b135d0-e018-4124-9605-a4109c70b5b2"
   },
   "outputs": [
    {
     "name": "stdout",
     "output_type": "stream",
     "text": [
      "col                    corr  pval\n",
      "age                    0.03  0.00\n",
      "pdays                 -0.32  0.00\n",
      "previous               0.23  0.00\n",
      "emp.var.rate          -0.30  0.00\n",
      "cons.price.idx        -0.14  0.00\n",
      "cons.conf.idx          0.05  0.00\n",
      "euribor3m             -0.31  0.00\n",
      "nr.employed           -0.35  0.00\n",
      "y                      1.00  0.00\n"
     ]
    }
   ],
   "source": [
    "import scipy\n",
    "import numpy as np\n",
    "\n",
    "print(\"col                    corr  pval\")\n",
    "for col in numerical_df.columns:\n",
    "    corr = np.nan\n",
    "    pval = np.nan\n",
    "    if numerical_df[col].nunique() > 1:  # Check if column has more than one unique value (adjusting the code due to null values in total_rec_late_fee)\n",
    "        corr, pval = scipy.stats.pearsonr(numerical_df[col], y)\n",
    "\n",
    "    print(f\"{col: <20}  {corr: >5.2f}  {pval:4.2f}\")"
   ]
  },
  {
   "cell_type": "code",
   "execution_count": 301,
   "metadata": {
    "colab": {
     "base_uri": "https://localhost:8080/",
     "height": 535
    },
    "id": "Kl04oayc-oZQ",
    "outputId": "b16623e6-59b2-4bc6-edcc-e6eec3a4ea4f"
   },
   "outputs": [
    {
     "data": {
      "image/png": "[encoded data removed]",
      "text/plain": [
       "<Figure size 640x480 with 2 Axes>"
      ]
     },
     "metadata": {},
     "output_type": "display_data"
    }
   ],
   "source": [
    "# Heatmap for better visualization\n",
    "import seaborn as sns\n",
    "\n",
    "\n",
    "sns.heatmap(\n",
    "    corr_pearson,\n",
    "    annot=True,\n",
    "    cmap = 'YlGnBu',\n",
    "    square = True,\n",
    "    mask = np.triu(corr_pearson.notnull()),\n",
    "    annot_kws={\"fontsize\": 8}\n",
    ");\n",
    "\n",
    "plt.title('Correlation Heatmap')\n",
    "plt.show()"
   ]
  },
  {
   "cell_type": "markdown",
   "metadata": {
    "id": "xE17xB_vAsCP"
   },
   "source": [
    "Based on the Pearson's correlation matrix and heatmap, the following features exhibit the highest correlation with the target variable, which indicates whether a customer subscribed to a term deposit:\n",
    "\n",
    "*   **\"nr.employed\"**: This feature, which represents the number of employees (a\n",
    "quarterly indicator), has a correlation of -0.35 with the target variable. This negative correlation suggests that as the number of employed individuals increases, the likelihood of a customer subscribing to a term deposit decreases.\n",
    "*   **\"pdays\"**: This feature, which denotes the number of days that have passed since the client was last contacted in a previous campaign, has a correlation of -0.32 with the target variable. A negative correlation indicates that the longer the time since the last contact, the less likely the client is to subscribe to a term deposit.\n",
    "*   **\"euribor3m\"**: This feature, which represents the Euribor 3-month rate (a daily indicator), has a correlation of -0.31 with the target variable. This negative correlation implies that higher Euribor rates are associated with a decreased likelihood of customers subscribing to a term deposit.\n",
    "\n"
   ]
  },
  {
   "cell_type": "markdown",
   "metadata": {
    "id": "kHLKhX1ED4Af"
   },
   "source": [
    "**Categorical features correlation:**"
   ]
  },
  {
   "cell_type": "markdown",
   "metadata": {
    "id": "E3-1hrZlGDK3"
   },
   "source": [
    "I will use Chi-Square test to examine the independence of the categorical variables with target feature. Although it doesn't provide a correlation coefficient, it gives a p-value indicating whether the variables are related."
   ]
  },
  {
   "cell_type": "code",
   "execution_count": 302,
   "metadata": {
    "colab": {
     "base_uri": "https://localhost:8080/",
     "height": 112
    },
    "id": "itU6cEF99uwM",
    "outputId": "bd02eca6-1823-455c-cc2c-d8a8716a900d"
   },
   "outputs": [
    {
     "data": {
      "text/html": [
       "<div>\n",
       "<style scoped>\n",
       "    .dataframe tbody tr th:only-of-type {\n",
       "        vertical-align: middle;\n",
       "    }\n",
       "\n",
       "    .dataframe tbody tr th {\n",
       "        vertical-align: top;\n",
       "    }\n",
       "\n",
       "    .dataframe thead th {\n",
       "        text-align: right;\n",
       "    }\n",
       "</style>\n",
       "<table border=\"1\" class=\"dataframe\">\n",
       "  <thead>\n",
       "    <tr style=\"text-align: right;\">\n",
       "      <th></th>\n",
       "      <th>job</th>\n",
       "      <th>marital</th>\n",
       "      <th>education</th>\n",
       "      <th>default</th>\n",
       "      <th>housing</th>\n",
       "      <th>loan</th>\n",
       "      <th>poutcome</th>\n",
       "      <th>y</th>\n",
       "    </tr>\n",
       "  </thead>\n",
       "  <tbody>\n",
       "    <tr>\n",
       "      <th>0</th>\n",
       "      <td>housemaid</td>\n",
       "      <td>married</td>\n",
       "      <td>basic.4y</td>\n",
       "      <td>no</td>\n",
       "      <td>no</td>\n",
       "      <td>no</td>\n",
       "      <td>nonexistent</td>\n",
       "      <td>0</td>\n",
       "    </tr>\n",
       "    <tr>\n",
       "      <th>1</th>\n",
       "      <td>services</td>\n",
       "      <td>married</td>\n",
       "      <td>high.school</td>\n",
       "      <td>unknown</td>\n",
       "      <td>no</td>\n",
       "      <td>no</td>\n",
       "      <td>nonexistent</td>\n",
       "      <td>0</td>\n",
       "    </tr>\n",
       "  </tbody>\n",
       "</table>\n",
       "</div>"
      ],
      "text/plain": [
       "         job  marital    education  default housing loan     poutcome  y\n",
       "0  housemaid  married     basic.4y       no      no   no  nonexistent  0\n",
       "1   services  married  high.school  unknown      no   no  nonexistent  0"
      ]
     },
     "execution_count": 302,
     "metadata": {},
     "output_type": "execute_result"
    }
   ],
   "source": [
    "categorical_df.head(2)"
   ]
  },
  {
   "cell_type": "code",
   "execution_count": 303,
   "metadata": {
    "id": "ICrA8q5aD9fE"
   },
   "outputs": [],
   "source": [
    "X_cat = categorical_df.drop(columns = [\"y\"])\n",
    "y_cat = categorical_df[\"y\"]"
   ]
  },
  {
   "cell_type": "code",
   "execution_count": 304,
   "metadata": {
    "colab": {
     "base_uri": "https://localhost:8080/"
    },
    "id": "y_fA2nq4EMxf",
    "outputId": "5be90f4e-aa38-40a3-ce52-abc322086ed4"
   },
   "outputs": [
    {
     "name": "stdout",
     "output_type": "stream",
     "text": [
      "\n",
      " y                 0     1\n",
      "job                      \n",
      "admin.         9070  1352\n",
      "blue-collar    8616   638\n",
      "entrepreneur   1332   124\n",
      "housemaid       954   106\n",
      "management     2596   328\n",
      "retired        1286   434\n",
      "self-employed  1272   149\n",
      "services       3646   323\n",
      "student         600   275\n",
      "technician     6013   730\n",
      "unemployed      870   144\n",
      "unknown         293    37\n",
      "Feature: job | p-value: 4.189763287563623e-199\n",
      "\n",
      " y             0     1\n",
      "marital              \n",
      "divorced   4136   476\n",
      "married   22396  2532\n",
      "single     9948  1620\n",
      "unknown      68    12\n",
      "Feature: marital | p-value: 2.068014648442211e-26\n",
      "\n",
      " y                        0     1\n",
      "education                       \n",
      "basic.4y              3748   428\n",
      "basic.6y              2104   188\n",
      "basic.9y              5572   473\n",
      "high.school           8484  1031\n",
      "illiterate              14     4\n",
      "professional.course   4648   595\n",
      "university.degree    10498  1670\n",
      "unknown               1480   251\n",
      "Feature: education | p-value: 3.3051890144025054e-38\n",
      "\n",
      " y            0     1\n",
      "default             \n",
      "no       28391  4197\n",
      "unknown   8154   443\n",
      "yes          3     0\n",
      "Feature: default | p-value: 5.161957951391637e-89\n",
      "\n",
      " y            0     1\n",
      "housing             \n",
      "no       16596  2026\n",
      "unknown    883   107\n",
      "yes      19069  2507\n",
      "Feature: housing | p-value: 0.05829447669453452\n",
      "\n",
      " y            0     1\n",
      "loan                \n",
      "no       30100  3850\n",
      "unknown    883   107\n",
      "yes       5565   683\n",
      "Feature: loan | p-value: 0.5786752870441754\n",
      "\n",
      " y                0     1\n",
      "poutcome                \n",
      "failure       3647   605\n",
      "nonexistent  32422  3141\n",
      "success        479   894\n",
      "Feature: poutcome | p-value: 0.0\n"
     ]
    }
   ],
   "source": [
    "import pandas as pd\n",
    "from scipy.stats import chi2_contingency\n",
    "\n",
    "for col in X_cat.columns:\n",
    "    table = pd.crosstab(X_cat[col], y_cat)\n",
    "    print ('\\n', table)\n",
    "    _, pval, _, expected_table = chi2_contingency(table)\n",
    "    print('Feature:', col, '| p-value:', pval)\n",
    "\n"
   ]
  },
  {
   "cell_type": "code",
   "execution_count": 305,
   "metadata": {
    "colab": {
     "base_uri": "https://localhost:8080/"
    },
    "id": "B_6WHV2iFoJK",
    "outputId": "0ed033c6-78cb-4f44-ef81-f96d98b01539"
   },
   "outputs": [
    {
     "data": {
      "text/plain": [
       "Chi2ContingencyResult(statistic=961.2424403289555, pvalue=4.189763287563623e-199, dof=11, expected_freq=array([[9247.91822861, 1174.08177139],\n",
       "       [8211.49830048, 1042.50169952],\n",
       "       [1291.97552685,  164.02447315],\n",
       "       [ 940.58657862,  119.41342138],\n",
       "       [2594.59920365,  329.40079635],\n",
       "       [1526.23482568,  193.76517432],\n",
       "       [1260.91842284,  160.08157716],\n",
       "       [3521.87559483,  447.12440517],\n",
       "       [ 776.42760027,   98.57239973],\n",
       "       [5983.37292415,  759.62707585],\n",
       "       [ 899.76867049,  114.23132951],\n",
       "       [ 292.82412353,   37.17587647]]))"
      ]
     },
     "execution_count": 305,
     "metadata": {},
     "output_type": "execute_result"
    }
   ],
   "source": [
    "chi2_contingency(pd.crosstab(X_cat[\"job\"], y_cat))"
   ]
  },
  {
   "cell_type": "markdown",
   "metadata": {
    "id": "bCy_zt6sHStB"
   },
   "source": [
    "Based on the results, we can see that the feature **\"job\"** shows the lowest p-value among all features analyzed using the chi-square test of independence. This low p-value indicates the highest level of statistical significance for the \"job\" feature and provides sufficient evidence to reject the null hypothesis that the features are independent.\n",
    "\n",
    "Furthermore, the observed counts for the \"job\" feature deviate significantly from the expected counts generated by the chi-square test. This deviation suggests that there is a dependency between the \"job\" feature and the target variable.\n",
    "\n",
    "In summary, the low p-value and substantial deviation of observed counts from expected counts indicate that the \"job\" feature is likely to be a strong predictor of the target variable, showing a meaningful relationship or dependency between the two variables."
   ]
  },
  {
   "cell_type": "markdown",
   "metadata": {
    "id": "BNaGyBvkOdYI"
   },
   "source": [
    "### Data Cleaning and Preprocessing"
   ]
  },
  {
   "cell_type": "markdown",
   "metadata": {
    "id": "ggbidM_7OfRx"
   },
   "source": [
    "Before I proceed with the modelling, let's see if there are any missing values, encode the categorical features and scale the numerical ones:"
   ]
  },
  {
   "cell_type": "markdown",
   "metadata": {
    "id": "zyYBtZZoOx1D"
   },
   "source": [
    "**Missing values:**"
   ]
  },
  {
   "cell_type": "code",
   "execution_count": 306,
   "metadata": {
    "colab": {
     "base_uri": "https://localhost:8080/"
    },
    "id": "9xUStJMz9u10",
    "outputId": "7cce2005-7789-4173-df95-c74a296ed2f8"
   },
   "outputs": [
    {
     "data": {
      "text/plain": [
       "age               0\n",
       "job               0\n",
       "marital           0\n",
       "education         0\n",
       "default           0\n",
       "housing           0\n",
       "loan              0\n",
       "pdays             0\n",
       "previous          0\n",
       "poutcome          0\n",
       "emp.var.rate      0\n",
       "cons.price.idx    0\n",
       "cons.conf.idx     0\n",
       "euribor3m         0\n",
       "nr.employed       0\n",
       "y                 0\n",
       "dtype: int64"
      ]
     },
     "execution_count": 306,
     "metadata": {},
     "output_type": "execute_result"
    }
   ],
   "source": [
    "df.isnull().sum()"
   ]
  },
  {
   "cell_type": "markdown",
   "metadata": {
    "id": "FMQ2-VzjOvQ9"
   },
   "source": [
    "There are no missing values in the dataset. \n"
   ]
  },
  {
   "cell_type": "markdown",
   "metadata": {},
   "source": [
    "**Let's split the dataset into test and train:**"
   ]
  },
  {
   "cell_type": "code",
   "execution_count": 307,
   "metadata": {
    "id": "fD8xqFgtYX0j"
   },
   "outputs": [],
   "source": [
    "train_set, test_set = train_test_split(df, test_size = 0.2, random_state = seed)\n",
    "\n",
    "X_train = train_set.drop(['y'], axis = 'columns')\n",
    "y_train = train_set['y']\n",
    "\n",
    "X_test = test_set.drop(['y'], axis = 1)\n",
    "y_test = test_set['y']"
   ]
  },
  {
   "cell_type": "markdown",
   "metadata": {},
   "source": [
    "**Numerical features scaling:**"
   ]
  },
  {
   "cell_type": "code",
   "execution_count": 308,
   "metadata": {
    "colab": {
     "base_uri": "https://localhost:8080/",
     "height": 112
    },
    "id": "AzA4mzx-gY_1",
    "outputId": "1858599b-5b3b-4fb6-8b91-e37b0bb0bc35"
   },
   "outputs": [
    {
     "data": {
      "text/html": [
       "<div>\n",
       "<style scoped>\n",
       "    .dataframe tbody tr th:only-of-type {\n",
       "        vertical-align: middle;\n",
       "    }\n",
       "\n",
       "    .dataframe tbody tr th {\n",
       "        vertical-align: top;\n",
       "    }\n",
       "\n",
       "    .dataframe thead th {\n",
       "        text-align: right;\n",
       "    }\n",
       "</style>\n",
       "<table border=\"1\" class=\"dataframe\">\n",
       "  <thead>\n",
       "    <tr style=\"text-align: right;\">\n",
       "      <th></th>\n",
       "      <th>age</th>\n",
       "      <th>pdays</th>\n",
       "      <th>previous</th>\n",
       "      <th>emp.var.rate</th>\n",
       "      <th>cons.price.idx</th>\n",
       "      <th>cons.conf.idx</th>\n",
       "      <th>euribor3m</th>\n",
       "      <th>nr.employed</th>\n",
       "      <th>y</th>\n",
       "    </tr>\n",
       "  </thead>\n",
       "  <tbody>\n",
       "    <tr>\n",
       "      <th>0</th>\n",
       "      <td>56</td>\n",
       "      <td>999</td>\n",
       "      <td>0</td>\n",
       "      <td>1.1</td>\n",
       "      <td>93.994</td>\n",
       "      <td>-36.4</td>\n",
       "      <td>4.857</td>\n",
       "      <td>5191.0</td>\n",
       "      <td>0</td>\n",
       "    </tr>\n",
       "    <tr>\n",
       "      <th>1</th>\n",
       "      <td>57</td>\n",
       "      <td>999</td>\n",
       "      <td>0</td>\n",
       "      <td>1.1</td>\n",
       "      <td>93.994</td>\n",
       "      <td>-36.4</td>\n",
       "      <td>4.857</td>\n",
       "      <td>5191.0</td>\n",
       "      <td>0</td>\n",
       "    </tr>\n",
       "  </tbody>\n",
       "</table>\n",
       "</div>"
      ],
      "text/plain": [
       "   age  pdays  previous  emp.var.rate  cons.price.idx  cons.conf.idx  \\\n",
       "0   56    999         0           1.1          93.994          -36.4   \n",
       "1   57    999         0           1.1          93.994          -36.4   \n",
       "\n",
       "   euribor3m  nr.employed  y  \n",
       "0      4.857       5191.0  0  \n",
       "1      4.857       5191.0  0  "
      ]
     },
     "execution_count": 308,
     "metadata": {},
     "output_type": "execute_result"
    }
   ],
   "source": [
    "numerical_df.head(2)"
   ]
  },
  {
   "cell_type": "code",
   "execution_count": 309,
   "metadata": {
    "colab": {
     "base_uri": "https://localhost:8080/",
     "height": 143
    },
    "id": "4cZdEPrSgMjR",
    "outputId": "76605d80-47d6-4178-a159-a97315c60f00"
   },
   "outputs": [
    {
     "data": {
      "text/html": [
       "<div>\n",
       "<style scoped>\n",
       "    .dataframe tbody tr th:only-of-type {\n",
       "        vertical-align: middle;\n",
       "    }\n",
       "\n",
       "    .dataframe tbody tr th {\n",
       "        vertical-align: top;\n",
       "    }\n",
       "\n",
       "    .dataframe thead th {\n",
       "        text-align: right;\n",
       "    }\n",
       "</style>\n",
       "<table border=\"1\" class=\"dataframe\">\n",
       "  <thead>\n",
       "    <tr style=\"text-align: right;\">\n",
       "      <th></th>\n",
       "      <th>age</th>\n",
       "      <th>job</th>\n",
       "      <th>marital</th>\n",
       "      <th>education</th>\n",
       "      <th>default</th>\n",
       "      <th>housing</th>\n",
       "      <th>loan</th>\n",
       "      <th>pdays</th>\n",
       "      <th>previous</th>\n",
       "      <th>poutcome</th>\n",
       "      <th>emp.var.rate</th>\n",
       "      <th>cons.price.idx</th>\n",
       "      <th>cons.conf.idx</th>\n",
       "      <th>euribor3m</th>\n",
       "      <th>nr.employed</th>\n",
       "    </tr>\n",
       "  </thead>\n",
       "  <tbody>\n",
       "    <tr>\n",
       "      <th>12556</th>\n",
       "      <td>0.283951</td>\n",
       "      <td>blue-collar</td>\n",
       "      <td>married</td>\n",
       "      <td>basic.9y</td>\n",
       "      <td>unknown</td>\n",
       "      <td>yes</td>\n",
       "      <td>no</td>\n",
       "      <td>1.0</td>\n",
       "      <td>0.000000</td>\n",
       "      <td>nonexistent</td>\n",
       "      <td>1.000000</td>\n",
       "      <td>0.669135</td>\n",
       "      <td>0.338912</td>\n",
       "      <td>0.980730</td>\n",
       "      <td>1.000000</td>\n",
       "    </tr>\n",
       "    <tr>\n",
       "      <th>35451</th>\n",
       "      <td>0.172840</td>\n",
       "      <td>admin.</td>\n",
       "      <td>married</td>\n",
       "      <td>university.degree</td>\n",
       "      <td>no</td>\n",
       "      <td>no</td>\n",
       "      <td>no</td>\n",
       "      <td>1.0</td>\n",
       "      <td>0.000000</td>\n",
       "      <td>nonexistent</td>\n",
       "      <td>0.333333</td>\n",
       "      <td>0.269680</td>\n",
       "      <td>0.192469</td>\n",
       "      <td>0.138291</td>\n",
       "      <td>0.512287</td>\n",
       "    </tr>\n",
       "    <tr>\n",
       "      <th>30592</th>\n",
       "      <td>0.518519</td>\n",
       "      <td>retired</td>\n",
       "      <td>married</td>\n",
       "      <td>basic.4y</td>\n",
       "      <td>no</td>\n",
       "      <td>no</td>\n",
       "      <td>no</td>\n",
       "      <td>1.0</td>\n",
       "      <td>0.142857</td>\n",
       "      <td>failure</td>\n",
       "      <td>0.333333</td>\n",
       "      <td>0.269680</td>\n",
       "      <td>0.192469</td>\n",
       "      <td>0.163228</td>\n",
       "      <td>0.512287</td>\n",
       "    </tr>\n",
       "  </tbody>\n",
       "</table>\n",
       "</div>"
      ],
      "text/plain": [
       "            age          job  marital          education  default housing  \\\n",
       "12556  0.283951  blue-collar  married           basic.9y  unknown     yes   \n",
       "35451  0.172840       admin.  married  university.degree       no      no   \n",
       "30592  0.518519      retired  married           basic.4y       no      no   \n",
       "\n",
       "      loan  pdays  previous     poutcome  emp.var.rate  cons.price.idx  \\\n",
       "12556   no    1.0  0.000000  nonexistent      1.000000        0.669135   \n",
       "35451   no    1.0  0.000000  nonexistent      0.333333        0.269680   \n",
       "30592   no    1.0  0.142857      failure      0.333333        0.269680   \n",
       "\n",
       "       cons.conf.idx  euribor3m  nr.employed  \n",
       "12556       0.338912   0.980730     1.000000  \n",
       "35451       0.192469   0.138291     0.512287  \n",
       "30592       0.192469   0.163228     0.512287  "
      ]
     },
     "execution_count": 309,
     "metadata": {},
     "output_type": "execute_result"
    }
   ],
   "source": [
    "numerical_features = ['age', 'pdays', 'previous', 'emp.var.rate', 'cons.price.idx', 'cons.conf.idx', 'euribor3m', 'nr.employed']\n",
    "\n",
    "# Initialize MinMaxScaler\n",
    "scaler = MinMaxScaler()\n",
    "\n",
    "# Scale numerical features in the training dataset (X_train)\n",
    "X_train[numerical_features] = scaler.fit_transform(X_train[numerical_features])\n",
    "\n",
    "X_train = pd.DataFrame(X_train, columns=X_train.columns)\n",
    "\n",
    "X_test[numerical_features] = scaler.transform(X_test[numerical_features])\n",
    "\n",
    "# Convert X_test back to a DataFrame\n",
    "X_test = pd.DataFrame(X_test, columns=X_test.columns)\n",
    "\n",
    "X_train.head(3)"
   ]
  },
  {
   "cell_type": "markdown",
   "metadata": {
    "id": "4tjmzgZ7OzkA"
   },
   "source": [
    "**Categorical features encoding:**"
   ]
  },
  {
   "cell_type": "code",
   "execution_count": 310,
   "metadata": {
    "colab": {
     "base_uri": "https://localhost:8080/",
     "height": 206
    },
    "id": "kLwoXlyEOuhx",
    "outputId": "ee682596-fb13-4519-d533-c9b490eea90a"
   },
   "outputs": [
    {
     "data": {
      "text/html": [
       "<div>\n",
       "<style scoped>\n",
       "    .dataframe tbody tr th:only-of-type {\n",
       "        vertical-align: middle;\n",
       "    }\n",
       "\n",
       "    .dataframe tbody tr th {\n",
       "        vertical-align: top;\n",
       "    }\n",
       "\n",
       "    .dataframe thead th {\n",
       "        text-align: right;\n",
       "    }\n",
       "</style>\n",
       "<table border=\"1\" class=\"dataframe\">\n",
       "  <thead>\n",
       "    <tr style=\"text-align: right;\">\n",
       "      <th></th>\n",
       "      <th>job</th>\n",
       "      <th>marital</th>\n",
       "      <th>education</th>\n",
       "      <th>default</th>\n",
       "      <th>housing</th>\n",
       "      <th>loan</th>\n",
       "      <th>poutcome</th>\n",
       "      <th>y</th>\n",
       "    </tr>\n",
       "  </thead>\n",
       "  <tbody>\n",
       "    <tr>\n",
       "      <th>0</th>\n",
       "      <td>housemaid</td>\n",
       "      <td>married</td>\n",
       "      <td>basic.4y</td>\n",
       "      <td>no</td>\n",
       "      <td>no</td>\n",
       "      <td>no</td>\n",
       "      <td>nonexistent</td>\n",
       "      <td>0</td>\n",
       "    </tr>\n",
       "    <tr>\n",
       "      <th>1</th>\n",
       "      <td>services</td>\n",
       "      <td>married</td>\n",
       "      <td>high.school</td>\n",
       "      <td>unknown</td>\n",
       "      <td>no</td>\n",
       "      <td>no</td>\n",
       "      <td>nonexistent</td>\n",
       "      <td>0</td>\n",
       "    </tr>\n",
       "    <tr>\n",
       "      <th>2</th>\n",
       "      <td>services</td>\n",
       "      <td>married</td>\n",
       "      <td>high.school</td>\n",
       "      <td>no</td>\n",
       "      <td>yes</td>\n",
       "      <td>no</td>\n",
       "      <td>nonexistent</td>\n",
       "      <td>0</td>\n",
       "    </tr>\n",
       "    <tr>\n",
       "      <th>3</th>\n",
       "      <td>admin.</td>\n",
       "      <td>married</td>\n",
       "      <td>basic.6y</td>\n",
       "      <td>no</td>\n",
       "      <td>no</td>\n",
       "      <td>no</td>\n",
       "      <td>nonexistent</td>\n",
       "      <td>0</td>\n",
       "    </tr>\n",
       "    <tr>\n",
       "      <th>4</th>\n",
       "      <td>services</td>\n",
       "      <td>married</td>\n",
       "      <td>high.school</td>\n",
       "      <td>no</td>\n",
       "      <td>no</td>\n",
       "      <td>yes</td>\n",
       "      <td>nonexistent</td>\n",
       "      <td>0</td>\n",
       "    </tr>\n",
       "  </tbody>\n",
       "</table>\n",
       "</div>"
      ],
      "text/plain": [
       "         job  marital    education  default housing loan     poutcome  y\n",
       "0  housemaid  married     basic.4y       no      no   no  nonexistent  0\n",
       "1   services  married  high.school  unknown      no   no  nonexistent  0\n",
       "2   services  married  high.school       no     yes   no  nonexistent  0\n",
       "3     admin.  married     basic.6y       no      no   no  nonexistent  0\n",
       "4   services  married  high.school       no      no  yes  nonexistent  0"
      ]
     },
     "execution_count": 310,
     "metadata": {},
     "output_type": "execute_result"
    }
   ],
   "source": [
    "categorical_df.head(5)"
   ]
  },
  {
   "cell_type": "markdown",
   "metadata": {
    "id": "9s-LUdZIXSHk"
   },
   "source": [
    "The feature \"education\" has an ordinal relation, so we'll apply the Ordinal Encoding:"
   ]
  },
  {
   "cell_type": "code",
   "execution_count": 311,
   "metadata": {
    "colab": {
     "base_uri": "https://localhost:8080/"
    },
    "id": "mGn5nbW_PVHx",
    "outputId": "14bd0120-7553-4b00-c94d-7fd4875a3f41"
   },
   "outputs": [
    {
     "data": {
      "text/plain": [
       "array(['basic.4y', 'high.school', 'basic.6y', 'basic.9y',\n",
       "       'professional.course', 'unknown', 'university.degree',\n",
       "       'illiterate'], dtype=object)"
      ]
     },
     "execution_count": 311,
     "metadata": {},
     "output_type": "execute_result"
    }
   ],
   "source": [
    "df.education.unique()"
   ]
  },
  {
   "cell_type": "code",
   "execution_count": 312,
   "metadata": {
    "colab": {
     "base_uri": "https://localhost:8080/"
    },
    "id": "lvJyvyBwXgSr",
    "outputId": "d071e507-59e2-40ca-e56d-dac2f0a979f8"
   },
   "outputs": [
    {
     "data": {
      "text/plain": [
       "12556    4.0\n",
       "35451    7.0\n",
       "30592    2.0\n",
       "17914    4.0\n",
       "Name: education, dtype: float64"
      ]
     },
     "execution_count": 312,
     "metadata": {},
     "output_type": "execute_result"
    }
   ],
   "source": [
    "from sklearn.preprocessing import OrdinalEncoder\n",
    "\n",
    "ord_enc_education = OrdinalEncoder(categories=[[\"unknown\", \"illiterate\", \"basic.4y\", \"basic.6y\", \"basic.9y\", \"high.school\", \"professional.course\", \"university.degree\"]])\n",
    "\n",
    "X_train[\"education\"] = ord_enc_education.fit_transform(X_train[[\"education\"]])\n",
    "X_test[\"education\"] = ord_enc_education.transform(X_test[[\"education\"]])\n",
    "\n",
    "X_train.education.head(4)"
   ]
  },
  {
   "cell_type": "markdown",
   "metadata": {
    "id": "ynyzqXZiZq6q"
   },
   "source": [
    "The remaining categorical features have no ordinal relationship or binary nature (the ones that appear to have, also have a category \"unknown\" which we will take into consideration as well). Based on that, I will apply OHE One Hot Encoding to the remaining features:"
   ]
  },
  {
   "cell_type": "code",
   "execution_count": 313,
   "metadata": {
    "colab": {
     "base_uri": "https://localhost:8080/"
    },
    "id": "knWwOxSm4Sfw",
    "outputId": "df5fed35-e213-4648-d1c5-530141214950"
   },
   "outputs": [
    {
     "name": "stdout",
     "output_type": "stream",
     "text": [
      "Defaulting to user installation because normal site-packages is not writeable\n",
      "Requirement already satisfied: category_encoders in c:\\users\\polin\\appdata\\roaming\\python\\python312\\site-packages (2.6.3)\n",
      "Requirement already satisfied: numpy>=1.14.0 in c:\\users\\polin\\appdata\\roaming\\python\\python312\\site-packages (from category_encoders) (1.26.4)\n",
      "Requirement already satisfied: scikit-learn>=0.20.0 in c:\\users\\polin\\appdata\\roaming\\python\\python312\\site-packages (from category_encoders) (1.4.1.post1)\n",
      "Requirement already satisfied: scipy>=1.0.0 in c:\\users\\polin\\appdata\\roaming\\python\\python312\\site-packages (from category_encoders) (1.13.0)\n",
      "Requirement already satisfied: statsmodels>=0.9.0 in c:\\users\\polin\\appdata\\roaming\\python\\python312\\site-packages (from category_encoders) (0.14.2)\n",
      "Requirement already satisfied: pandas>=1.0.5 in c:\\users\\polin\\appdata\\roaming\\python\\python312\\site-packages (from category_encoders) (2.2.1)\n",
      "Requirement already satisfied: patsy>=0.5.1 in c:\\users\\polin\\appdata\\roaming\\python\\python312\\site-packages (from category_encoders) (0.5.6)\n",
      "Requirement already satisfied: python-dateutil>=2.8.2 in c:\\users\\polin\\appdata\\roaming\\python\\python312\\site-packages (from pandas>=1.0.5->category_encoders) (2.8.2)\n",
      "Requirement already satisfied: pytz>=2020.1 in c:\\users\\polin\\appdata\\roaming\\python\\python312\\site-packages (from pandas>=1.0.5->category_encoders) (2024.1)\n",
      "Requirement already satisfied: tzdata>=2022.7 in c:\\users\\polin\\appdata\\roaming\\python\\python312\\site-packages (from pandas>=1.0.5->category_encoders) (2024.1)\n",
      "Requirement already satisfied: six in c:\\users\\polin\\appdata\\roaming\\python\\python312\\site-packages (from patsy>=0.5.1->category_encoders) (1.16.0)\n",
      "Requirement already satisfied: joblib>=1.2.0 in c:\\users\\polin\\appdata\\roaming\\python\\python312\\site-packages (from scikit-learn>=0.20.0->category_encoders) (1.3.2)\n",
      "Requirement already satisfied: threadpoolctl>=2.0.0 in c:\\users\\polin\\appdata\\roaming\\python\\python312\\site-packages (from scikit-learn>=0.20.0->category_encoders) (3.4.0)\n",
      "Requirement already satisfied: packaging>=21.3 in c:\\users\\polin\\appdata\\roaming\\python\\python312\\site-packages (from statsmodels>=0.9.0->category_encoders) (23.2)\n",
      "Note: you may need to restart the kernel to use updated packages.\n"
     ]
    }
   ],
   "source": [
    "pip install category_encoders\n"
   ]
  },
  {
   "cell_type": "code",
   "execution_count": 314,
   "metadata": {},
   "outputs": [],
   "source": [
    "from category_encoders import OneHotEncoder as OHE\n",
    "\n",
    "categorical_features = ['job', 'marital', 'default', 'housing', 'loan', 'poutcome']\n",
    "\n",
    "ohe_enc = OHE(cols=categorical_features, use_cat_names=True)\n",
    "\n",
    "X_train_encoded = ohe_enc.fit_transform(X_train)\n",
    "X_test_encoded = ohe_enc.transform(X_test)"
   ]
  },
  {
   "cell_type": "code",
   "execution_count": 315,
   "metadata": {},
   "outputs": [
    {
     "data": {
      "text/html": [
       "<div>\n",
       "<style scoped>\n",
       "    .dataframe tbody tr th:only-of-type {\n",
       "        vertical-align: middle;\n",
       "    }\n",
       "\n",
       "    .dataframe tbody tr th {\n",
       "        vertical-align: top;\n",
       "    }\n",
       "\n",
       "    .dataframe thead th {\n",
       "        text-align: right;\n",
       "    }\n",
       "</style>\n",
       "<table border=\"1\" class=\"dataframe\">\n",
       "  <thead>\n",
       "    <tr style=\"text-align: right;\">\n",
       "      <th></th>\n",
       "      <th>age</th>\n",
       "      <th>job_blue-collar</th>\n",
       "      <th>job_admin.</th>\n",
       "      <th>job_retired</th>\n",
       "      <th>job_housemaid</th>\n",
       "      <th>job_management</th>\n",
       "      <th>job_technician</th>\n",
       "      <th>job_entrepreneur</th>\n",
       "      <th>job_services</th>\n",
       "      <th>job_student</th>\n",
       "      <th>...</th>\n",
       "      <th>pdays</th>\n",
       "      <th>previous</th>\n",
       "      <th>poutcome_nonexistent</th>\n",
       "      <th>poutcome_failure</th>\n",
       "      <th>poutcome_success</th>\n",
       "      <th>emp.var.rate</th>\n",
       "      <th>cons.price.idx</th>\n",
       "      <th>cons.conf.idx</th>\n",
       "      <th>euribor3m</th>\n",
       "      <th>nr.employed</th>\n",
       "    </tr>\n",
       "  </thead>\n",
       "  <tbody>\n",
       "    <tr>\n",
       "      <th>12556</th>\n",
       "      <td>0.283951</td>\n",
       "      <td>1</td>\n",
       "      <td>0</td>\n",
       "      <td>0</td>\n",
       "      <td>0</td>\n",
       "      <td>0</td>\n",
       "      <td>0</td>\n",
       "      <td>0</td>\n",
       "      <td>0</td>\n",
       "      <td>0</td>\n",
       "      <td>...</td>\n",
       "      <td>1.0</td>\n",
       "      <td>0.0</td>\n",
       "      <td>1</td>\n",
       "      <td>0</td>\n",
       "      <td>0</td>\n",
       "      <td>1.000000</td>\n",
       "      <td>0.669135</td>\n",
       "      <td>0.338912</td>\n",
       "      <td>0.980730</td>\n",
       "      <td>1.000000</td>\n",
       "    </tr>\n",
       "    <tr>\n",
       "      <th>35451</th>\n",
       "      <td>0.172840</td>\n",
       "      <td>0</td>\n",
       "      <td>1</td>\n",
       "      <td>0</td>\n",
       "      <td>0</td>\n",
       "      <td>0</td>\n",
       "      <td>0</td>\n",
       "      <td>0</td>\n",
       "      <td>0</td>\n",
       "      <td>0</td>\n",
       "      <td>...</td>\n",
       "      <td>1.0</td>\n",
       "      <td>0.0</td>\n",
       "      <td>1</td>\n",
       "      <td>0</td>\n",
       "      <td>0</td>\n",
       "      <td>0.333333</td>\n",
       "      <td>0.269680</td>\n",
       "      <td>0.192469</td>\n",
       "      <td>0.138291</td>\n",
       "      <td>0.512287</td>\n",
       "    </tr>\n",
       "  </tbody>\n",
       "</table>\n",
       "<p>2 rows × 37 columns</p>\n",
       "</div>"
      ],
      "text/plain": [
       "            age  job_blue-collar  job_admin.  job_retired  job_housemaid  \\\n",
       "12556  0.283951                1           0            0              0   \n",
       "35451  0.172840                0           1            0              0   \n",
       "\n",
       "       job_management  job_technician  job_entrepreneur  job_services  \\\n",
       "12556               0               0                 0             0   \n",
       "35451               0               0                 0             0   \n",
       "\n",
       "       job_student  ...  pdays  previous  poutcome_nonexistent  \\\n",
       "12556            0  ...    1.0       0.0                     1   \n",
       "35451            0  ...    1.0       0.0                     1   \n",
       "\n",
       "       poutcome_failure  poutcome_success  emp.var.rate  cons.price.idx  \\\n",
       "12556                 0                 0      1.000000        0.669135   \n",
       "35451                 0                 0      0.333333        0.269680   \n",
       "\n",
       "       cons.conf.idx  euribor3m  nr.employed  \n",
       "12556       0.338912   0.980730     1.000000  \n",
       "35451       0.192469   0.138291     0.512287  \n",
       "\n",
       "[2 rows x 37 columns]"
      ]
     },
     "execution_count": 315,
     "metadata": {},
     "output_type": "execute_result"
    }
   ],
   "source": [
    "X_train_encoded.head(2)"
   ]
  },
  {
   "cell_type": "code",
   "execution_count": 316,
   "metadata": {},
   "outputs": [
    {
     "data": {
      "text/plain": [
       "(32950, 37)"
      ]
     },
     "execution_count": 316,
     "metadata": {},
     "output_type": "execute_result"
    }
   ],
   "source": [
    "X_train_encoded.shape"
   ]
  },
  {
   "cell_type": "markdown",
   "metadata": {},
   "source": [
    "I've encoded categorical features, resulting in a total of 37 features. However, dealing with such a high-dimensional feature space can lead to overfitting and slow training times. To address this, we’ll employ PCA (Principal Component Analysis) as a dimensionality reduction technique.\n",
    "\n",
    "PCA aims to transform the original data into a set of principal components that capture the maximum variance. By doing so, we retain most of the information while reducing the number of features. Its primary goal is to minimize projection error while maximizing information preservation."
   ]
  },
  {
   "cell_type": "markdown",
   "metadata": {},
   "source": [
    "I will allow PCA to determine the optimal number of components (denoted as (d)) such that the cumulative sum of variance exceeds 0.95, indicating that it captures at least 95% of the data variation:"
   ]
  },
  {
   "cell_type": "code",
   "execution_count": 317,
   "metadata": {
    "id": "pxzuS0HJB7YL"
   },
   "outputs": [],
   "source": [
    "from sklearn.decomposition import PCA\n",
    "\n",
    "pca = PCA()\n",
    "pca.fit(X_train_encoded)\n",
    "\n",
    "cumsum = np.cumsum(pca.explained_variance_ratio_)\n",
    "\n",
    "d = np.argmax(cumsum >= 0.95) + 1\n",
    "\n",
    "pca = PCA(n_components = d)\n",
    "\n",
    "X_train_pca = pca.fit_transform(X_train_encoded)\n",
    "X_test_pca = pca.transform(X_test_encoded)\n",
    "\n",
    "X_train = pd.DataFrame(X_train_pca, columns=['F1', 'F2', 'F3', 'F4', 'F5', 'F6', 'F7', 'F8', 'F9', 'F10', 'F11', 'F12', 'F13', 'F14'])\n",
    "X_test = pd.DataFrame(X_test_pca, columns=['F1', 'F2', 'F3', 'F4', 'F5', 'F6', 'F7', 'F8', 'F9', 'F10', 'F11', 'F12', 'F13', 'F14'])\n",
    "\n"
   ]
  },
  {
   "cell_type": "code",
   "execution_count": 318,
   "metadata": {
    "colab": {
     "base_uri": "https://localhost:8080/"
    },
    "id": "W7-le1AhOVPJ",
    "outputId": "8e4ef88e-4606-482d-af0f-313e74c46586"
   },
   "outputs": [
    {
     "data": {
      "text/plain": [
       "14"
      ]
     },
     "execution_count": 318,
     "metadata": {},
     "output_type": "execute_result"
    }
   ],
   "source": [
    "d"
   ]
  },
  {
   "cell_type": "code",
   "execution_count": 319,
   "metadata": {
    "colab": {
     "base_uri": "https://localhost:8080/",
     "height": 112
    },
    "id": "2XxOFdSJQRr-",
    "outputId": "359f155c-0a03-4708-9908-1e7725d67bbb"
   },
   "outputs": [
    {
     "data": {
      "text/html": [
       "<div>\n",
       "<style scoped>\n",
       "    .dataframe tbody tr th:only-of-type {\n",
       "        vertical-align: middle;\n",
       "    }\n",
       "\n",
       "    .dataframe tbody tr th {\n",
       "        vertical-align: top;\n",
       "    }\n",
       "\n",
       "    .dataframe thead th {\n",
       "        text-align: right;\n",
       "    }\n",
       "</style>\n",
       "<table border=\"1\" class=\"dataframe\">\n",
       "  <thead>\n",
       "    <tr style=\"text-align: right;\">\n",
       "      <th></th>\n",
       "      <th>F1</th>\n",
       "      <th>F2</th>\n",
       "      <th>F3</th>\n",
       "      <th>F4</th>\n",
       "      <th>F5</th>\n",
       "      <th>F6</th>\n",
       "      <th>F7</th>\n",
       "      <th>F8</th>\n",
       "      <th>F9</th>\n",
       "      <th>F10</th>\n",
       "      <th>F11</th>\n",
       "      <th>F12</th>\n",
       "      <th>F13</th>\n",
       "      <th>F14</th>\n",
       "    </tr>\n",
       "  </thead>\n",
       "  <tbody>\n",
       "    <tr>\n",
       "      <th>0</th>\n",
       "      <td>1.144517</td>\n",
       "      <td>-0.296737</td>\n",
       "      <td>-1.227933</td>\n",
       "      <td>0.090027</td>\n",
       "      <td>0.740837</td>\n",
       "      <td>-0.246688</td>\n",
       "      <td>-0.058060</td>\n",
       "      <td>-0.513828</td>\n",
       "      <td>0.197074</td>\n",
       "      <td>0.091180</td>\n",
       "      <td>-0.097327</td>\n",
       "      <td>-0.049794</td>\n",
       "      <td>0.093143</td>\n",
       "      <td>-0.017815</td>\n",
       "    </tr>\n",
       "    <tr>\n",
       "      <th>1</th>\n",
       "      <td>-2.097457</td>\n",
       "      <td>-0.321707</td>\n",
       "      <td>0.698684</td>\n",
       "      <td>0.799461</td>\n",
       "      <td>-0.083068</td>\n",
       "      <td>-0.132921</td>\n",
       "      <td>0.673429</td>\n",
       "      <td>-0.179893</td>\n",
       "      <td>-0.138127</td>\n",
       "      <td>-0.457896</td>\n",
       "      <td>-0.224950</td>\n",
       "      <td>-0.247414</td>\n",
       "      <td>-0.071425</td>\n",
       "      <td>-0.012153</td>\n",
       "    </tr>\n",
       "  </tbody>\n",
       "</table>\n",
       "</div>"
      ],
      "text/plain": [
       "         F1        F2        F3        F4        F5        F6        F7  \\\n",
       "0  1.144517 -0.296737 -1.227933  0.090027  0.740837 -0.246688 -0.058060   \n",
       "1 -2.097457 -0.321707  0.698684  0.799461 -0.083068 -0.132921  0.673429   \n",
       "\n",
       "         F8        F9       F10       F11       F12       F13       F14  \n",
       "0 -0.513828  0.197074  0.091180 -0.097327 -0.049794  0.093143 -0.017815  \n",
       "1 -0.179893 -0.138127 -0.457896 -0.224950 -0.247414 -0.071425 -0.012153  "
      ]
     },
     "execution_count": 319,
     "metadata": {},
     "output_type": "execute_result"
    }
   ],
   "source": [
    "X_train.head(2)"
   ]
  },
  {
   "cell_type": "markdown",
   "metadata": {},
   "source": [
    "We have obtained a total of 14 features, which are the result of merging the principal components."
   ]
  },
  {
   "cell_type": "markdown",
   "metadata": {},
   "source": [
    "### Baseline Cost"
   ]
  },
  {
   "cell_type": "markdown",
   "metadata": {
    "id": "G6VdgX08RcPT"
   },
   "source": [
    "**Baseline (cost without any model involved):**\n",
    "\n",
    "$$totalCost = 500∗FP+2000∗FN$$"
   ]
  },
  {
   "cell_type": "markdown",
   "metadata": {
    "id": "VVuKjIBITNA9"
   },
   "source": [
    "*For Class 1: Client has subscribed to term deposit (Only Positives):*"
   ]
  },
  {
   "cell_type": "code",
   "execution_count": 321,
   "metadata": {
    "colab": {
     "base_uri": "https://localhost:8080/"
    },
    "id": "J73H6CCANvE_",
    "outputId": "7b0ac515-758c-444d-e774-60c42534d38a"
   },
   "outputs": [
    {
     "data": {
      "text/plain": [
       "0.11349842194707453"
      ]
     },
     "execution_count": 321,
     "metadata": {},
     "output_type": "execute_result"
    }
   ],
   "source": [
    "y_preds_all_bad = np.ones(y_test.shape)\n",
    "#creates creates an array of ones with the same shape as y_test\n",
    "\n",
    "accuracy = accuracy_score(y_test, y_preds_all_bad)\n",
    "accuracy"
   ]
  },
  {
   "cell_type": "code",
   "execution_count": 322,
   "metadata": {
    "colab": {
     "base_uri": "https://localhost:8080/"
    },
    "id": "q0LqLPpeNuIH",
    "outputId": "8028b270-f1be-47e2-b9d3-3b90908305c5"
   },
   "outputs": [
    {
     "name": "stdout",
     "output_type": "stream",
     "text": [
      "Number of True Negatives: 0\n",
      "Number of True Positives: 935\n",
      "Number of False Negatives: 0\n",
      "Number of False Positives: 7303\n"
     ]
    }
   ],
   "source": [
    "tn, fp, fn, tp = confusion_matrix(y_test, y_preds_all_bad).ravel()\n",
    "\n",
    "print('Number of True Negatives:', tn)\n",
    "print('Number of True Positives:', tp)\n",
    "print('Number of False Negatives:', fn)\n",
    "print('Number of False Positives:', fp)"
   ]
  },
  {
   "cell_type": "code",
   "execution_count": 323,
   "metadata": {
    "colab": {
     "base_uri": "https://localhost:8080/"
    },
    "id": "VuQeJ-VeTmeN",
    "outputId": "12463978-5965-48fc-a282-ae0137c31717"
   },
   "outputs": [
    {
     "name": "stdout",
     "output_type": "stream",
     "text": [
      "Total Cost: 3651500\n"
     ]
    }
   ],
   "source": [
    "print('Total Cost:', fp*500)\n",
    "# 500 because that's the cost of False Positives"
   ]
  },
  {
   "cell_type": "markdown",
   "metadata": {
    "id": "chNlzcczTuEy"
   },
   "source": [
    "If all the clients were considered as **good candidates** for term deposit, that would cost **3,651,500€** to the bank."
   ]
  },
  {
   "cell_type": "markdown",
   "metadata": {
    "id": "Tg3anwXMUEOa"
   },
   "source": [
    "*For Class 0: Client has not subscribed to term deposit (Only Negatives):*"
   ]
  },
  {
   "cell_type": "code",
   "execution_count": 324,
   "metadata": {
    "colab": {
     "base_uri": "https://localhost:8080/"
    },
    "id": "ZqgIPovwTmge",
    "outputId": "a967b292-d6d7-4fb8-e429-4044e669f8b7"
   },
   "outputs": [
    {
     "name": "stdout",
     "output_type": "stream",
     "text": [
      "Number of True Negatives: 7303\n",
      "Number of True Positives: 0\n",
      "Number of False Negatives: 935\n",
      "Number of False Positives: 0\n"
     ]
    }
   ],
   "source": [
    "y_preds_all_good = np.zeros(y_test.shape)\n",
    "\n",
    "tn, fp, fn, tp = confusion_matrix(y_test, y_preds_all_good).ravel()\n",
    "\n",
    "print('Number of True Negatives:', tn)\n",
    "print('Number of True Positives:', tp)\n",
    "print('Number of False Negatives:', fn)\n",
    "print('Number of False Positives:', fp)"
   ]
  },
  {
   "cell_type": "code",
   "execution_count": 325,
   "metadata": {
    "colab": {
     "base_uri": "https://localhost:8080/"
    },
    "id": "IP0ceO2dUVlt",
    "outputId": "22b451a3-3a95-4b89-cf3c-3755fd667242"
   },
   "outputs": [
    {
     "name": "stdout",
     "output_type": "stream",
     "text": [
      "Total Cost: 1870000\n"
     ]
    }
   ],
   "source": [
    "print('Total Cost:', fn*2000)"
   ]
  },
  {
   "cell_type": "markdown",
   "metadata": {
    "id": "NApOSUWwUjDv"
   },
   "source": [
    "If all the clients were considered as **bad candidates** for term deposit, that would cost **1,870,000€** to the bank."
   ]
  },
  {
   "cell_type": "markdown",
   "metadata": {
    "id": "o53s1IG3Le7G"
   },
   "source": [
    "In this scenario, where the total baseline cost of false positives (€3.65MM) outweighs that of false negatives (€1.87MM), prioritizing the reduction of false positives becomes imperative for minimizing the overall financial burden on the business. While the individual cost per false negative (2000€) may be higher than that of false positives (500€), the cumulative impact of false positives on the total cost is more significant.\n",
    "\n",
    "Therefore, selecting a threshold of 0.5, which is commonly used as the default threshold in binary classification, aligns well with the objective of mitigating the financial effects of false positives. By adopting a threshold of 0.5, the model tends to be on the side of caution, leading to more conservative predictions and a higher likelihood of correctly classifying negative instances, thus reducing the incidence of false positives. Consequently, while some false negatives may occur due to the conservative nature of the threshold, the overall financial savings achieved by minimizing false positives outweighs the cost of missed positive instances."
   ]
  },
  {
   "cell_type": "code",
   "execution_count": 326,
   "metadata": {
    "id": "IINYlOrBViBK"
   },
   "outputs": [],
   "source": [
    "\n",
    "import matplotlib.pyplot as plt\n",
    "from sklearn.metrics import confusion_matrix\n",
    "\n",
    "# Define the total cost function\n",
    "def total_cost(y_test, y_preds, threshold=0.5):\n",
    "    tn, fp, fn, tp = confusion_matrix(y_test == 1, y_preds > threshold).ravel()\n",
    "    cost_fn = fn * 2000  # Cost for False Negatives\n",
    "    cost_fp = fp * 500   # Cost for False Positives\n",
    "    return cost_fn + cost_fp\n",
    "\n",
    "# Define the function to find the threshold with minimum cost\n",
    "def min_cost_threshold(y_test, y_preds):\n",
    "    costs = {}\n",
    "\n",
    "    # Calculate costs for each threshold\n",
    "    for threshold in np.arange(0, 1.1, 0.1):\n",
    "        costs[round(threshold, 1)] = total_cost(y_test, y_preds, threshold=threshold)\n",
    "\n",
    "    # Plot the costs\n",
    "    plt.plot(list(costs.keys()), list(costs.values()))\n",
    "    plt.ylabel('Cost')\n",
    "    plt.xlabel('Threshold')\n",
    "    plt.title('Cost vs Threshold')\n",
    "    plt.show()\n",
    "\n",
    "    # Find the threshold with the minimum cost\n",
    "    min_threshold = min(costs, key=costs.get)\n",
    "    min_cost = costs[min_threshold]\n",
    "\n",
    "    print(f\"Minimum cost: {min_cost} at threshold: {min_threshold}\")\n",
    "    return min_threshold, min_cost\n",
    "# min_threshold, min_cost = min_cost_threshold(y_test, y_preds)"
   ]
  },
  {
   "cell_type": "markdown",
   "metadata": {},
   "source": [
    "For each algorithm, the evaluation will focus on three main criteria:\n",
    "\n",
    "*Minimum Cost vs. Threshold:* This criterion is the most crucial as it directly relates to the financial impact of the model's predictions. We will determine the threshold that minimizes the total cost, considering the costs associated with false positives and false negatives.\n",
    "\n",
    "*Precision-Recall Curve (PRC):* PRC is a suitable metric for evaluating performance on imbalanced data, which is our case. This curve illustrates the trade-off between precision and recall, allowing us to assess the model's ability to correctly identify positive instances while minimizing false positives. Also, accuracy can be misleading on imbalanced datasets, where a classifier can achieve high accuracy by simply predicting the majority class most of the time, while ignoring the minority class. PRC, on the other hand, focuses on the performance of the classifier specifically on the positive class, making it more sensitive to imbalanced classes.\n",
    "\n",
    "*F1 Score:* The F1 score provides a balanced measure of the model's precision and recall. It is particularly useful for evaluating classifiers on imbalanced datasets as it considers both false positives and false negatives.\n",
    "\n",
    "By examining these criteria, we aim to gain a better understanding of each algorithm's performance, considering both the financial implications and the ability to effectively handle the imbalanced nature of the dataset."
   ]
  },
  {
   "cell_type": "markdown",
   "metadata": {},
   "source": [
    "### Machine Learning"
   ]
  },
  {
   "cell_type": "markdown",
   "metadata": {
    "id": "W2NgFc-sYG6V"
   },
   "source": [
    "**Logistic Regression**"
   ]
  },
  {
   "cell_type": "code",
   "execution_count": 327,
   "metadata": {
    "colab": {
     "base_uri": "https://localhost:8080/"
    },
    "id": "peqH10WPYGfi",
    "outputId": "f99772be-c045-4ede-8874-7ccec94bf0f0"
   },
   "outputs": [
    {
     "name": "stdout",
     "output_type": "stream",
     "text": [
      "CPU times: total: 62.5 ms\n",
      "Wall time: 636 ms\n"
     ]
    }
   ],
   "source": [
    "%%time\n",
    "# Define Logistic Regression classifier;  class_weight parameter to handle class imbalance and 'lbfgs' solver for multi-class classification problem\n",
    "lr = LogisticRegression(max_iter = 500, solver = 'lbfgs', random_state = seed, class_weight = 'balanced' )\n",
    "\n",
    "# Define hyperparameter grid for C (overfit regularization)\n",
    "parameters = {'C':[0.001, 0.01, 0.1, 1, 10, 100]}\n",
    "\n",
    "#Search for best hyperparamether of C, with cross-validation of 5:\n",
    "clf_lr = GridSearchCV(lr, parameters, cv = 5).fit(X_train, y_train)"
   ]
  },
  {
   "cell_type": "code",
   "execution_count": 328,
   "metadata": {
    "colab": {
     "base_uri": "https://localhost:8080/"
    },
    "id": "xUAZ5_p90Ddq",
    "outputId": "641b61a7-09aa-4155-e593-c0dcd5ffdb14"
   },
   "outputs": [
    {
     "data": {
      "text/plain": [
       "0.7416848749696529"
      ]
     },
     "execution_count": 328,
     "metadata": {},
     "output_type": "execute_result"
    }
   ],
   "source": [
    "clf_lr.score(X_test, y_test)"
   ]
  },
  {
   "cell_type": "code",
   "execution_count": 329,
   "metadata": {
    "id": "0TXlGM2Q0Dfa"
   },
   "outputs": [
    {
     "data": {
      "text/plain": [
       "1499000"
      ]
     },
     "execution_count": 329,
     "metadata": {},
     "output_type": "execute_result"
    }
   ],
   "source": [
    "y_preds = clf_lr.predict_proba(X_test)[:,1]\n",
    "total_cost(y_test, y_preds, threshold = 0.5)"
   ]
  },
  {
   "cell_type": "code",
   "execution_count": 330,
   "metadata": {
    "colab": {
     "base_uri": "https://localhost:8080/",
     "height": 507
    },
    "id": "8G5cUx5e0Wco",
    "outputId": "cecf061a-0679-43ed-a0ee-87ff10c4c880"
   },
   "outputs": [
    {
     "data": {
      "image/png": "[encoded data removed]",
      "text/plain": [
       "<Figure size 640x480 with 1 Axes>"
      ]
     },
     "metadata": {},
     "output_type": "display_data"
    },
    {
     "name": "stdout",
     "output_type": "stream",
     "text": [
      "Minimum cost: 1296500 at threshold: 0.6\n"
     ]
    },
    {
     "data": {
      "text/plain": [
       "(0.6, 1296500)"
      ]
     },
     "execution_count": 330,
     "metadata": {},
     "output_type": "execute_result"
    }
   ],
   "source": [
    "min_cost_threshold(y_test, y_preds)"
   ]
  },
  {
   "cell_type": "markdown",
   "metadata": {
    "id": "hHJHG8En1b7z"
   },
   "source": [
    "\n",
    "The minimum cost of **1,296,500€** at threshold 0.6 means that this is the total cost incurred by the Logistic Regression model, considering both false positives and false negatives, and it's optimized based on the chosen threshold. This value is already better than the baseline costs!"
   ]
  },
  {
   "cell_type": "code",
   "execution_count": 331,
   "metadata": {
    "colab": {
     "base_uri": "https://localhost:8080/",
     "height": 472
    },
    "id": "N7J7BBwf0Dhq",
    "outputId": "b0bbbc32-277b-4082-912a-5406c9f72486"
   },
   "outputs": [
    {
     "data": {
      "image/png": "[encoded data removed]",
      "text/plain": [
       "<Figure size 640x480 with 1 Axes>"
      ]
     },
     "metadata": {},
     "output_type": "display_data"
    }
   ],
   "source": [
    "from sklearn.metrics import precision_recall_curve, auc\n",
    "import matplotlib.pyplot as plt\n",
    "\n",
    "def plot_prc(y_test, y_preds):\n",
    "    # Calculate precision, recall, and thresholds\n",
    "    precision, recall, thresholds = precision_recall_curve(y_test, y_preds)\n",
    "    \n",
    "    # Calculate area under the curve (AUC) for PRC\n",
    "    prc_auc = auc(recall, precision)\n",
    "    \n",
    "    # Plot Precision-Recall Curve\n",
    "    plt.plot(recall, precision, marker='.')\n",
    "    plt.xlabel('Recall')\n",
    "    plt.ylabel('Precision')\n",
    "    plt.title('Precision-Recall Curve (AUC = {:.2f})'.format(prc_auc))\n",
    "    plt.grid(True)\n",
    "    plt.show()\n",
    "\n",
    "plot_prc(y_test, y_preds)\n",
    "\n"
   ]
  },
  {
   "cell_type": "code",
   "execution_count": 332,
   "metadata": {
    "colab": {
     "base_uri": "https://localhost:8080/"
    },
    "id": "PcuACa-Z3iIH",
    "outputId": "2dffe55c-ea06-445c-be6f-f6a7d8c1adce"
   },
   "outputs": [
    {
     "name": "stdout",
     "output_type": "stream",
     "text": [
      "F1-score: 0.3774136922176711\n"
     ]
    }
   ],
   "source": [
    "from sklearn.metrics import f1_score\n",
    "\n",
    "def calculate_f1_with_threshold(y_test, y_preds, threshold=0.5):\n",
    "    # Convert probabilities to binary labels based on the threshold\n",
    "    y_preds = (y_preds >= threshold).astype(int)\n",
    "    f1 = f1_score(y_test, y_preds)\n",
    "    return f1\n",
    "\n",
    "f1 = calculate_f1_with_threshold(y_test, y_preds)\n",
    "print(\"F1-score:\", f1)\n"
   ]
  },
  {
   "cell_type": "markdown",
   "metadata": {},
   "source": [
    "\n",
    "This model demonstrates improvements over the baseline performance, as indicated by the PRC Area Under the Curve (AUC) of 0.4 and an F1 score of 0.377. Additionally, achieving a minimum cost of €1.296 million suggests effective cost management compared to the baseline cost. The logistic regression model's choice of a threshold of 0.6, higher than the default 0.5, reflects its prioritization of minimizing false positives, aligning well with the higher total cost of false positives compared to false negatives. These results indicate promising advancements in both classification accuracy and cost optimization, showcasing the model's potential for practical application."
   ]
  },
  {
   "cell_type": "markdown",
   "metadata": {
    "id": "dFRlCbn3sP1S"
   },
   "source": [
    "**KNN**"
   ]
  },
  {
   "cell_type": "code",
   "execution_count": 333,
   "metadata": {
    "colab": {
     "base_uri": "https://localhost:8080/"
    },
    "id": "IxYd29_LsPYZ",
    "outputId": "f2a16098-b2a9-4050-d5de-47b874c164b2"
   },
   "outputs": [
    {
     "name": "stdout",
     "output_type": "stream",
     "text": [
      "CPU times: total: 9.47 s\n",
      "Wall time: 53.3 s\n"
     ]
    }
   ],
   "source": [
    "%%time\n",
    "# Define K-Nearest Neighbors (KNN) classifier\n",
    "knn = KNeighborsClassifier()\n",
    "\n",
    "# Define hyperparameter grid for n_neighbors\n",
    "parameters = {'n_neighbors': range(1,40, 1)}\n",
    "\n",
    "# Perform GridSearchCV with cross-validation of 5\n",
    "clf_knn = GridSearchCV(knn, parameters, cv = 5).fit(X_train, y_train)"
   ]
  },
  {
   "cell_type": "code",
   "execution_count": 334,
   "metadata": {
    "colab": {
     "base_uri": "https://localhost:8080/"
    },
    "id": "9zgrJ3VMsPaI",
    "outputId": "f15ca1f8-fc9f-4bac-b47c-ade43390e044"
   },
   "outputs": [
    {
     "data": {
      "text/plain": [
       "0.8958485069191552"
      ]
     },
     "execution_count": 334,
     "metadata": {},
     "output_type": "execute_result"
    }
   ],
   "source": [
    "y_preds = clf_knn.predict_proba(X_test)[:,1]\n",
    "\n",
    "clf_knn.score(X_test, y_test)"
   ]
  },
  {
   "cell_type": "code",
   "execution_count": 335,
   "metadata": {
    "colab": {
     "base_uri": "https://localhost:8080/"
    },
    "id": "w4AIDQXQwlpu",
    "outputId": "69103751-c956-4305-a457-bf04b1df6e20"
   },
   "outputs": [
    {
     "data": {
      "text/plain": [
       "1578000"
      ]
     },
     "execution_count": 335,
     "metadata": {},
     "output_type": "execute_result"
    }
   ],
   "source": [
    "total_cost(y_test, y_preds, threshold = 0.5)"
   ]
  },
  {
   "cell_type": "code",
   "execution_count": 336,
   "metadata": {
    "colab": {
     "base_uri": "https://localhost:8080/",
     "height": 507
    },
    "id": "sGCLCB5jwncl",
    "outputId": "102a2c9c-7b2c-4a58-ef45-dfce8ad13953"
   },
   "outputs": [
    {
     "data": {
      "image/png": "[encoded data removed]",
      "text/plain": [
       "<Figure size 640x480 with 1 Axes>"
      ]
     },
     "metadata": {},
     "output_type": "display_data"
    },
    {
     "name": "stdout",
     "output_type": "stream",
     "text": [
      "Minimum cost: 1363500 at threshold: 0.2\n"
     ]
    },
    {
     "data": {
      "text/plain": [
       "(0.2, 1363500)"
      ]
     },
     "execution_count": 336,
     "metadata": {},
     "output_type": "execute_result"
    }
   ],
   "source": [
    "min_cost_threshold(y_test, y_preds)"
   ]
  },
  {
   "cell_type": "code",
   "execution_count": 337,
   "metadata": {
    "colab": {
     "base_uri": "https://localhost:8080/",
     "height": 472
    },
    "id": "0AWQTnwOws09",
    "outputId": "cfca112c-f3ab-4fa7-97af-cac56949bfb8"
   },
   "outputs": [
    {
     "data": {
      "image/png": "[encoded data removed]",
      "text/plain": [
       "<Figure size 640x480 with 1 Axes>"
      ]
     },
     "metadata": {},
     "output_type": "display_data"
    }
   ],
   "source": [
    "from sklearn.metrics import precision_recall_curve, auc\n",
    "import matplotlib.pyplot as plt\n",
    "\n",
    "def plot_prc(y_test, y_preds):\n",
    "    # Calculate precision, recall, and thresholds\n",
    "    precision, recall, thresholds = precision_recall_curve(y_test, y_preds)\n",
    "    \n",
    "    # Calculate area under the curve (AUC) for PRC\n",
    "    prc_auc = auc(recall, precision)\n",
    "    \n",
    "    # Plot Precision-Recall Curve\n",
    "    plt.plot(recall, precision, marker='.')\n",
    "    plt.xlabel('Recall')\n",
    "    plt.ylabel('Precision')\n",
    "    plt.title('Precision-Recall Curve (AUC = {:.2f})'.format(prc_auc))\n",
    "    plt.grid(True)\n",
    "    plt.show()\n",
    "\n",
    "plot_prc(y_test, y_preds)\n",
    "\n"
   ]
  },
  {
   "cell_type": "code",
   "execution_count": 338,
   "metadata": {
    "colab": {
     "base_uri": "https://localhost:8080/"
    },
    "id": "zmNzA-5Dw8r4",
    "outputId": "edd0cdfe-98b7-4f8b-ae16-c3fdd38f02f2"
   },
   "outputs": [
    {
     "name": "stdout",
     "output_type": "stream",
     "text": [
      "F1-score: 0.2826086956521739\n"
     ]
    }
   ],
   "source": [
    "from sklearn.metrics import f1_score\n",
    "\n",
    "def calculate_f1_with_threshold(y_test, y_preds, threshold=0.5):\n",
    "    # Convert probabilities to binary labels based on the threshold\n",
    "    y_preds = (y_preds >= threshold).astype(int)\n",
    "    f1 = f1_score(y_test, y_preds)\n",
    "    return f1\n",
    "\n",
    "\n",
    "f1 = calculate_f1_with_threshold(y_test, y_preds)\n",
    "print(\"F1-score:\", f1)\n"
   ]
  },
  {
   "cell_type": "markdown",
   "metadata": {},
   "source": [
    "The K-Nearest Neighbors (KNN) model showcases improvements over the baseline performance, achieving a minimum cost of 1.36 million euros at a threshold of 0.2 (minimizing the False Negatives). However, when compared to the logistic regression model, the KNN model exhibits inferior performance, as reflected by the lower minimum cost, PRC Area Under the Curve (AUC) of 0.38 and a lower F1 score of 0.282. This suggests that the KNN model may struggle to strike the desired balance between precision and recall, leading to suboptimal classification accuracy and cost optimization."
   ]
  },
  {
   "cell_type": "markdown",
   "metadata": {
    "id": "eqbNd3pUDpLX"
   },
   "source": [
    "**Decision Trees**"
   ]
  },
  {
   "cell_type": "code",
   "execution_count": 339,
   "metadata": {
    "colab": {
     "base_uri": "https://localhost:8080/"
    },
    "id": "s7RaCKPoDpaR",
    "outputId": "19347896-bcfe-4093-b6b3-557a02856254"
   },
   "outputs": [
    {
     "name": "stdout",
     "output_type": "stream",
     "text": [
      "CPU times: total: 750 ms\n",
      "Wall time: 4.94 s\n"
     ]
    }
   ],
   "source": [
    "%%time\n",
    "\n",
    "# Define Decision Tree classifier\n",
    "trees = tree.DecisionTreeClassifier(random_state = seed)\n",
    "\n",
    "\n",
    "# Define hyperparameter grid for max_depth and min_samples_split\n",
    "parameters = {'max_depth':[3, 6], 'min_samples_split': [2, 4, 10]}\n",
    "\n",
    "# Perform GridSearchCV with cross-validation of 5\n",
    "clf_tree = GridSearchCV(trees, parameters, cv = 5).fit(X_train, y_train)"
   ]
  },
  {
   "cell_type": "code",
   "execution_count": 340,
   "metadata": {
    "colab": {
     "base_uri": "https://localhost:8080/"
    },
    "id": "JNAiOXIJDpcv",
    "outputId": "bd547322-f11c-4c56-87b1-d5efd6378ced"
   },
   "outputs": [
    {
     "data": {
      "text/plain": [
       "0.8953629521728574"
      ]
     },
     "execution_count": 340,
     "metadata": {},
     "output_type": "execute_result"
    }
   ],
   "source": [
    "y_preds = clf_tree.predict_proba(X_test)[:,1]\n",
    "\n",
    "clf_tree.score(X_test, y_test)"
   ]
  },
  {
   "cell_type": "code",
   "execution_count": 341,
   "metadata": {
    "colab": {
     "base_uri": "https://localhost:8080/"
    },
    "id": "Wa2xZgJHDpe-",
    "outputId": "dc88695c-a01a-4757-e3a3-2c5387fe4add"
   },
   "outputs": [
    {
     "data": {
      "text/plain": [
       "1560500"
      ]
     },
     "execution_count": 341,
     "metadata": {},
     "output_type": "execute_result"
    }
   ],
   "source": [
    "total_cost(y_test, y_preds, threshold = 0.5)"
   ]
  },
  {
   "cell_type": "code",
   "execution_count": 342,
   "metadata": {
    "colab": {
     "base_uri": "https://localhost:8080/",
     "height": 507
    },
    "id": "_XvJY_osDphV",
    "outputId": "1c8a75ed-b5ca-4213-ae7b-ddd2381e110a"
   },
   "outputs": [
    {
     "data": {
      "image/png": "[encoded data removed]",
      "text/plain": [
       "<Figure size 640x480 with 1 Axes>"
      ]
     },
     "metadata": {},
     "output_type": "display_data"
    },
    {
     "name": "stdout",
     "output_type": "stream",
     "text": [
      "Minimum cost: 1411500 at threshold: 0.2\n"
     ]
    },
    {
     "data": {
      "text/plain": [
       "(0.2, 1411500)"
      ]
     },
     "execution_count": 342,
     "metadata": {},
     "output_type": "execute_result"
    }
   ],
   "source": [
    "min_cost_threshold(y_test, y_preds)"
   ]
  },
  {
   "cell_type": "code",
   "execution_count": 343,
   "metadata": {
    "colab": {
     "base_uri": "https://localhost:8080/",
     "height": 472
    },
    "id": "h8CPN9P-FGO2",
    "outputId": "5c02b7a1-88db-4cb6-ea61-5d2d08ec47ff"
   },
   "outputs": [
    {
     "data": {
      "image/png": "[encoded data removed]",
      "text/plain": [
       "<Figure size 640x480 with 1 Axes>"
      ]
     },
     "metadata": {},
     "output_type": "display_data"
    }
   ],
   "source": [
    "from sklearn.metrics import precision_recall_curve, auc\n",
    "import matplotlib.pyplot as plt\n",
    "\n",
    "def plot_prc(y_test, y_preds):\n",
    "    precision, recall, thresholds = precision_recall_curve(y_test, y_preds)\n",
    "    prc_auc = auc(recall, precision)\n",
    "    plt.plot(recall, precision, marker='.')\n",
    "    plt.xlabel('Recall')\n",
    "    plt.ylabel('Precision')\n",
    "    plt.title('Precision-Recall Curve (AUC = {:.2f})'.format(prc_auc))\n",
    "    plt.grid(True)\n",
    "    plt.show()\n",
    "\n",
    "\n",
    "plot_prc(y_test, y_preds)\n"
   ]
  },
  {
   "cell_type": "code",
   "execution_count": 344,
   "metadata": {
    "colab": {
     "base_uri": "https://localhost:8080/"
    },
    "id": "iaFhmSPeFGRH",
    "outputId": "66d28c08-b337-4998-fd51-064dbc83b8f9"
   },
   "outputs": [
    {
     "name": "stdout",
     "output_type": "stream",
     "text": [
      "F1-score: 0.2969004893964111\n"
     ]
    }
   ],
   "source": [
    "from sklearn.metrics import f1_score\n",
    "\n",
    "def calculate_f1_with_threshold(y_test, y_preds, threshold=0.5):\n",
    "    # Convert probabilities to binary labels based on the threshold\n",
    "    y_preds = (y_preds >= threshold).astype(int)\n",
    "    f1 = f1_score(y_test, y_preds)\n",
    "    return f1\n",
    "\n",
    "\n",
    "f1 = calculate_f1_with_threshold(y_test, y_preds)\n",
    "print(\"F1-score:\", f1)\n"
   ]
  },
  {
   "cell_type": "markdown",
   "metadata": {},
   "source": [
    "Similar to the K-Nearest Neighbors (KNN) model, the Decision Tree classifier demonstrates inferior performance compared to the logistic regression model. Despite its effectiveness in cost management, the Decision Tree model's lower PRC AUC and F1 score suggest limitations in achieving a balance between precision and recall."
   ]
  },
  {
   "cell_type": "markdown",
   "metadata": {
    "id": "N0B4TtLaNCk3"
   },
   "source": [
    "**Random Forests**"
   ]
  },
  {
   "cell_type": "code",
   "execution_count": 345,
   "metadata": {
    "id": "N2ELydaoNE31"
   },
   "outputs": [
    {
     "name": "stdout",
     "output_type": "stream",
     "text": [
      "CPU times: total: 281 ms\n",
      "Wall time: 1min 44s\n"
     ]
    }
   ],
   "source": [
    "%%time\n",
    "# Define Random Forest classifier\n",
    "rf = RandomForestClassifier(random_state = seed,  class_weight = 'balanced')\n",
    "\n",
    "# Define hyperparameter grid for n_estimators\n",
    "parameters = {'n_estimators':[10, 100, 300, 1000]}\n",
    "\n",
    "# Perform GridSearchCV with cross-validation of 5\n",
    "clf_rf = GridSearchCV(rf, parameters, cv = 5, n_jobs=-1).fit(X_train, y_train)\n",
    "\n",
    "#The n_jobs specifies the number of parallel jobs to run during cross-validation. When set to -1, it means that the computation will utilize all available CPU cores, effectively parallelizing the job across multiple cores for faster execution."
   ]
  },
  {
   "cell_type": "code",
   "execution_count": 346,
   "metadata": {
    "id": "a-_sj9w-NE5W"
   },
   "outputs": [
    {
     "data": {
      "text/plain": [
       "0.8678077203204662"
      ]
     },
     "execution_count": 346,
     "metadata": {},
     "output_type": "execute_result"
    }
   ],
   "source": [
    "y_preds = clf_rf.predict_proba(X_test)[:,1]\n",
    "\n",
    "clf_rf.score(X_test, y_test)"
   ]
  },
  {
   "cell_type": "code",
   "execution_count": 347,
   "metadata": {
    "id": "07ypzaT8OZlH"
   },
   "outputs": [
    {
     "data": {
      "image/png": "[encoded data removed]",
      "text/plain": [
       "<Figure size 640x480 with 1 Axes>"
      ]
     },
     "metadata": {},
     "output_type": "display_data"
    },
    {
     "name": "stdout",
     "output_type": "stream",
     "text": [
      "Minimum cost: 1547500 at threshold: 0.2\n"
     ]
    },
    {
     "data": {
      "text/plain": [
       "(0.2, 1547500)"
      ]
     },
     "execution_count": 347,
     "metadata": {},
     "output_type": "execute_result"
    }
   ],
   "source": [
    "min_cost_threshold(y_test, y_preds)"
   ]
  },
  {
   "cell_type": "code",
   "execution_count": 348,
   "metadata": {
    "id": "OypPc3dsNE75"
   },
   "outputs": [
    {
     "data": {
      "image/png": "[encoded data removed]",
      "text/plain": [
       "<Figure size 640x480 with 1 Axes>"
      ]
     },
     "metadata": {},
     "output_type": "display_data"
    }
   ],
   "source": [
    "from sklearn.metrics import precision_recall_curve, auc\n",
    "import matplotlib.pyplot as plt\n",
    "\n",
    "def plot_prc(y_test, y_preds):\n",
    "    precision, recall, thresholds = precision_recall_curve(y_test, y_preds)\n",
    "    prc_auc = auc(recall, precision)\n",
    "    plt.plot(recall, precision, marker='.')\n",
    "    plt.xlabel('Recall')\n",
    "    plt.ylabel('Precision')\n",
    "    plt.title('Precision-Recall Curve (AUC = {:.2f})'.format(prc_auc))\n",
    "    plt.grid(True)\n",
    "    plt.show()\n",
    "\n",
    "\n",
    "\n",
    "plot_prc(y_test, y_preds)\n"
   ]
  },
  {
   "cell_type": "code",
   "execution_count": 349,
   "metadata": {
    "colab": {
     "base_uri": "https://localhost:8080/"
    },
    "id": "ekwxG8H4PE8m",
    "outputId": "e747fd27-92d6-4382-831c-d947955e1efe"
   },
   "outputs": [
    {
     "name": "stdout",
     "output_type": "stream",
     "text": [
      "F1-score: 0.3212803793716657\n"
     ]
    }
   ],
   "source": [
    "from sklearn.metrics import f1_score\n",
    "\n",
    "def calculate_f1_with_threshold(y_test, y_preds, threshold=0.5):\n",
    "    # Convert probabilities to binary labels based on the threshold\n",
    "    y_preds = (y_preds >= threshold).astype(int)\n",
    "    f1 = f1_score(y_test, y_preds)\n",
    "    return f1\n",
    "\n",
    "\n",
    "f1 = calculate_f1_with_threshold(y_test, y_preds)\n",
    "print(\"F1-score:\", f1)\n"
   ]
  },
  {
   "cell_type": "markdown",
   "metadata": {},
   "source": [
    "In comparison to logistic regression, KNN, and Decision Tree models, the Random Forest model demonstrates weaker performance in both cost optimization and classification accuracy. The Random Forest's minimum cost of 1.54MM and lower PRC AUC suggest it struggles with precision and recall balance. This is unusual, as random forests typically outperform single decision trees due to their ensemble nature and to reduce the risk of overfitting from decision trees. Given this anomaly, we should be cautious when interpreting tree-based methods on this dataset."
   ]
  },
  {
   "cell_type": "markdown",
   "metadata": {
    "id": "iUlSzS6UPI6d"
   },
   "source": [
    "**Neural Networks**"
   ]
  },
  {
   "cell_type": "code",
   "execution_count": 350,
   "metadata": {
    "id": "wUdurK5-PIUA"
   },
   "outputs": [
    {
     "name": "stdout",
     "output_type": "stream",
     "text": [
      "CPU times: total: 5.2 s\n",
      "Wall time: 4min 5s\n"
     ]
    },
    {
     "name": "stderr",
     "output_type": "stream",
     "text": [
      "C:\\Users\\polin\\AppData\\Roaming\\Python\\Python312\\site-packages\\sklearn\\neural_network\\_multilayer_perceptron.py:546: ConvergenceWarning: lbfgs failed to converge (status=1):\n",
      "STOP: TOTAL NO. of ITERATIONS REACHED LIMIT.\n",
      "\n",
      "Increase the number of iterations (max_iter) or scale the data as shown in:\n",
      "    https://scikit-learn.org/stable/modules/preprocessing.html\n",
      "  self.n_iter_ = _check_optimize_result(\"lbfgs\", opt_res, self.max_iter)\n"
     ]
    }
   ],
   "source": [
    "%%time\n",
    "\n",
    "# Define MLPClassifier with specified parameters\n",
    "mlp = MLPClassifier(solver = 'lbfgs',  random_state = seed, max_iter = 1000 )\n",
    "\n",
    "# Define hyperparameters grid for GridSearchCV\n",
    "parameters = {'hidden_layer_sizes': [(20,), (20,10), (20, 10, 2)], 'learning_rate_init':[0.0001, 0.001, 0.01, 0.1]}\n",
    "\n",
    "# Perform GridSearchCV with cross-validation of 5 and utilize parallel processing\n",
    "clf_mlp = GridSearchCV(mlp, parameters, cv = 5, n_jobs=-1).fit(X_train, y_train)\n",
    "\n",
    "\n"
   ]
  },
  {
   "cell_type": "code",
   "execution_count": 351,
   "metadata": {
    "colab": {
     "base_uri": "https://localhost:8080/",
     "height": 176
    },
    "id": "CAJR9qpAaZda",
    "outputId": "93c16092-9102-4fa7-fb98-c3c7dd00b358"
   },
   "outputs": [
    {
     "data": {
      "text/plain": [
       "0.8951201747997086"
      ]
     },
     "execution_count": 351,
     "metadata": {},
     "output_type": "execute_result"
    }
   ],
   "source": [
    "y_preds = clf_mlp.predict_proba(X_test)[:,1]\n",
    "\n",
    "clf_mlp.score(X_test, y_test)\n"
   ]
  },
  {
   "cell_type": "code",
   "execution_count": 352,
   "metadata": {
    "id": "EwoztyjyaZjD"
   },
   "outputs": [
    {
     "data": {
      "image/png": "[encoded data removed]",
      "text/plain": [
       "<Figure size 640x480 with 1 Axes>"
      ]
     },
     "metadata": {},
     "output_type": "display_data"
    },
    {
     "name": "stdout",
     "output_type": "stream",
     "text": [
      "Minimum cost: 1279000 at threshold: 0.2\n"
     ]
    },
    {
     "data": {
      "text/plain": [
       "(0.2, 1279000)"
      ]
     },
     "execution_count": 352,
     "metadata": {},
     "output_type": "execute_result"
    }
   ],
   "source": [
    "min_cost_threshold(y_test, y_preds)"
   ]
  },
  {
   "cell_type": "code",
   "execution_count": 353,
   "metadata": {
    "id": "yj-T10Udaf-g"
   },
   "outputs": [
    {
     "data": {
      "image/png": "[encoded data removed]",
      "text/plain": [
       "<Figure size 640x480 with 1 Axes>"
      ]
     },
     "metadata": {},
     "output_type": "display_data"
    }
   ],
   "source": [
    "from sklearn.metrics import precision_recall_curve, auc\n",
    "import matplotlib.pyplot as plt\n",
    "\n",
    "def plot_prc(y_test, y_preds):\n",
    "    precision, recall, thresholds = precision_recall_curve(y_test, y_preds)\n",
    "    prc_auc = auc(recall, precision)\n",
    "    plt.plot(recall, precision, marker='.')\n",
    "    plt.xlabel('Recall')\n",
    "    plt.ylabel('Precision')\n",
    "    plt.title('Precision-Recall Curve (AUC = {:.2f})'.format(prc_auc))\n",
    "    plt.grid(True)\n",
    "    plt.show()\n",
    "\n",
    "\n",
    "plot_prc(y_test, y_preds)\n"
   ]
  },
  {
   "cell_type": "code",
   "execution_count": 354,
   "metadata": {
    "id": "PxSievEValTH"
   },
   "outputs": [
    {
     "name": "stdout",
     "output_type": "stream",
     "text": [
      "F1-score: 0.3054662379421222\n"
     ]
    }
   ],
   "source": [
    "from sklearn.metrics import f1_score\n",
    "\n",
    "def calculate_f1_with_threshold(y_test, y_preds, threshold=0.5):\n",
    "    # Convert probabilities to binary labels based on the threshold\n",
    "    y_preds = (y_preds >= threshold).astype(int)\n",
    "    f1 = f1_score(y_test, y_preds)\n",
    "    return f1\n",
    "\n",
    "\n",
    "f1 = calculate_f1_with_threshold(y_test, y_preds)\n",
    "print(\"F1-score:\", f1)\n"
   ]
  },
  {
   "cell_type": "markdown",
   "metadata": {},
   "source": [
    "The neural network model demonstrates promising performance with a minimum cost of 1.279 million euros, slightly surpassing logistic regression's optimization (1.296 million euros) with a marginal difference. Operating at a threshold of 0.2, the focus was on minimizing False Negatives. \n",
    "While the PRC AUC and F1 values slightly lag behind logistic regression, the neural network's runtime was notably longer. \n",
    "\n",
    "Considering logistic regression's quicker runtime, emphasis on minimizing false positives (which may align with specific business needs), marginally superior performance in PRC AUC and F1 score, and capability to rank coefficients, it emerges as the more pragmatic choice. The slight discrepancy in cost (17k) may not outweigh logistic regression's advantages in speed and performance metrics. Hence, logistic regression remains the recommended option."
   ]
  },
  {
   "cell_type": "markdown",
   "metadata": {
    "id": "WHj_GaAZw-np"
   },
   "source": [
    "**SVM**"
   ]
  },
  {
   "cell_type": "markdown",
   "metadata": {},
   "source": [
    "**NOTE**: Commenting out this algorithm because it took approximately 3 hours to run. The results are shown below, so there's no need to run this code again."
   ]
  },
  {
   "cell_type": "code",
   "execution_count": 356,
   "metadata": {
    "id": "pcb3gHdRyybf"
   },
   "outputs": [],
   "source": [
    "#%%time\n",
    "\n",
    "#svc = SVC(random_state = seed, class_weight = 'balanced', gamma = 'scale', probability = True, verbose = True)\n",
    "\n",
    "#I wanted to search for the ideal value of gamma using GridSearchCV to optimize the hyperparameter. However, the code was taking too long to run, so I had to set it to 'scale' to minimize the runtime.\n",
    "\n",
    "#parameters = {'C':[0.1, 1, 10], 'kernel': ('rbf', 'linear') }\n",
    "\n",
    "\n",
    "#clf_svc = GridSearchCV(svc, parameters, cv = 5, n_jobs=-1).fit(X_train, y_train)"
   ]
  },
  {
   "cell_type": "code",
   "execution_count": null,
   "metadata": {
    "colab": {
     "base_uri": "https://localhost:8080/",
     "height": 141
    },
    "id": "u2P4iv0cyyg_",
    "outputId": "26647cbd-e5e0-4831-8d6d-ebeefe7f5873"
   },
   "outputs": [
    {
     "data": {
      "text/plain": [
       "0.8693857732459335"
      ]
     },
     "execution_count": 197,
     "metadata": {},
     "output_type": "execute_result"
    }
   ],
   "source": [
    "#y_preds = clf_svc.predict_proba(X_test)[:,1]\n",
    "#clf_rf.score(X_test, y_test)"
   ]
  },
  {
   "cell_type": "code",
   "execution_count": null,
   "metadata": {},
   "outputs": [
    {
     "data": {
      "image/png": "[encoded data removed]",
      "text/plain": [
       "<Figure size 640x480 with 1 Axes>"
      ]
     },
     "metadata": {},
     "output_type": "display_data"
    },
    {
     "name": "stdout",
     "output_type": "stream",
     "text": [
      "Minimum cost: 1378500 at threshold: 0.3\n"
     ]
    },
    {
     "data": {
      "text/plain": [
       "(0.3, 1378500)"
      ]
     },
     "execution_count": 198,
     "metadata": {},
     "output_type": "execute_result"
    }
   ],
   "source": [
    "#min_cost_threshold(y_test, y_preds)"
   ]
  },
  {
   "cell_type": "code",
   "execution_count": null,
   "metadata": {},
   "outputs": [
    {
     "data": {
      "image/png": "[encoded data removed]",
      "text/plain": [
       "<Figure size 640x480 with 1 Axes>"
      ]
     },
     "metadata": {},
     "output_type": "display_data"
    }
   ],
   "source": [
    "#from sklearn.metrics import precision_recall_curve, auc\n",
    "#import matplotlib.pyplot as plt\n",
    "\n",
    "#def plot_prc(y_test, y_preds):\n",
    "    #precision, recall, thresholds = precision_recall_curve(y_test, y_preds)\n",
    "    #prc_auc = auc(recall, precision)\n",
    "    #plt.plot(recall, precision, marker='.')\n",
    "    #plt.xlabel('Recall')\n",
    "    #plt.ylabel('Precision')\n",
    "    #plt.title('Precision-Recall Curve (AUC = {:.2f})'.format(prc_auc))\n",
    "    #plt.grid(True)\n",
    "    #plt.show()\n",
    "\n",
    "\n",
    "#plot_prc(y_test, y_preds)\n"
   ]
  },
  {
   "cell_type": "code",
   "execution_count": null,
   "metadata": {},
   "outputs": [
    {
     "name": "stdout",
     "output_type": "stream",
     "text": [
      "F1-score: 0.02098635886673662\n"
     ]
    }
   ],
   "source": [
    "#from sklearn.metrics import f1_score\n",
    "\n",
    "#def calculate_f1_with_threshold(y_test, y_preds, threshold=0.5):\n",
    "    # Convert probabilities to binary labels based on the threshold\n",
    "    #y_preds = (y_preds >= threshold).astype(int)\n",
    "    #f1 = f1_score(y_test, y_preds)\n",
    "    #return f1\n",
    "\n",
    "\n",
    "#f1 = calculate_f1_with_threshold(y_test, y_preds)\n",
    "#print(\"F1-score:\", f1)\n"
   ]
  },
  {
   "cell_type": "markdown",
   "metadata": {},
   "source": [
    "The SVM model achieved a minimum cost of 1.378 million euros at a threshold of 0.3, with a PRC AUC of 0.31 and an F1 score of 0.02. These results indicate that the SVM model is less effective in cost optimization and performance metrics compared to other algorithms tested. Additionally, the SVM model took significantly longer to run, approximately 3 hours, making it impractical for use in this context."
   ]
  },
  {
   "cell_type": "markdown",
   "metadata": {},
   "source": [
    "### Conclusion"
   ]
  },
  {
   "cell_type": "markdown",
   "metadata": {},
   "source": [
    "**Models training summary:**"
   ]
  },
  {
   "cell_type": "markdown",
   "metadata": {},
   "source": [
    "After evaluating all relevant algorithms, here's a summary of our findings:\n",
    "\n",
    "    Logistic Regression: 1,296,500€; PRC AUC: 0.40; F1: 0.377\n",
    "    KNN:                 1,363,500€; PRC AUC: 0.38; F1: 0.283\n",
    "    Decision Trees:      1,411,500€; PRC AUC: 0.39; F1: 0.296\n",
    "    Random Forest:       1,547,000€; PRC AUC: 0.30; F1: 0.321\n",
    "    Neural Network:      1,279,000€; PRC AUC: 0.39; F1: 0.305\n",
    "    SVM:                 1,378,500€; PRC AUC: 0.31; F1: 0.02\n",
    "\n",
    "Considering both the cost optimization and the business requirements, **Logistic Regression** emerges as the clear winner due to its lower cost and balanced performance across metrics.\n"
   ]
  },
  {
   "cell_type": "markdown",
   "metadata": {},
   "source": [
    "If all the clients were considered as good candidates for term deposit, that would cost **3,651,500€** to the bank; and if all the clients were considered as bad candidates for term deposit, that would cost **1,870,000€** to the bank."
   ]
  },
  {
   "cell_type": "markdown",
   "metadata": {},
   "source": [
    "Using our model, the overall cost would be €1,296,500, resulting in a savings of more than half a million euros (€573,500) for the bank."
   ]
  },
  {
   "cell_type": "markdown",
   "metadata": {},
   "source": [
    "Additionally, thanks to the capability of Logistic Regression to rank coefficients, we can identify the importance of features and determine which ones contribute the most to the likelihood of a customer subscribing to a term deposit. Below, I used the pre-PCA dataset to extract the feature names corresponding to the coefficients:"
   ]
  },
  {
   "cell_type": "code",
   "execution_count": 357,
   "metadata": {},
   "outputs": [
    {
     "name": "stdout",
     "output_type": "stream",
     "text": [
      "Model Coefficients (sorted by absolute value):\n",
      "                      Coefficient  Abs_Coefficient\n",
      "emp.var.rate            -2.225496         2.225496\n",
      "pdays                   -1.366510         1.366510\n",
      "nr.employed             -1.346814         1.346814\n",
      "cons.price.idx           1.068405         1.068405\n",
      "default_no               0.558215         0.558215\n",
      "poutcome_success         0.505234         0.505234\n",
      "job_retired              0.460483         0.460483\n",
      "job_student              0.453085         0.453085\n",
      "poutcome_nonexistent     0.446812         0.446812\n",
      "previous                 0.438440         0.438440\n",
      "cons.conf.idx            0.343187         0.343187\n",
      "marital_unknown          0.325384         0.325384\n",
      "euribor3m                0.316217         0.316217\n",
      "default_unknown          0.285964         0.285964\n",
      "loan_no                  0.276787         0.276787\n",
      "housing_no               0.274589         0.274589\n",
      "housing_yes              0.267936         0.267936\n",
      "loan_yes                 0.265738         0.265738\n",
      "loan_unknown             0.258946         0.258946\n",
      "housing_unknown          0.258946         0.258946\n",
      "marital_single           0.227568         0.227568\n",
      "poutcome_failure        -0.150575         0.150575\n",
      "marital_married          0.144268         0.144268\n",
      "job_technician           0.126111         0.126111\n",
      "job_housemaid           -0.116401         0.116401\n",
      "job_services            -0.107825         0.107825\n",
      "marital_divorced         0.104251         0.104251\n",
      "job_admin.               0.093455         0.093455\n",
      "age                      0.088091         0.088091\n",
      "job_blue-collar         -0.076612         0.076612\n",
      "job_unknown             -0.074067         0.074067\n",
      "job_unemployed           0.044483         0.044483\n",
      "default_yes             -0.042709         0.042709\n",
      "education                0.033107         0.033107\n",
      "job_management           0.016011         0.016011\n",
      "job_self-employed       -0.010011         0.010011\n",
      "job_entrepreneur        -0.007241         0.007241\n",
      "CPU times: total: 109 ms\n",
      "Wall time: 3.11 s\n"
     ]
    }
   ],
   "source": [
    "%%time\n",
    "\n",
    "# Define Logistic Regression classifier; class_weight parameter to handle class imbalance and 'lbfgs' solver for multi-class classification problem\n",
    "lr = LogisticRegression(max_iter=500, solver='lbfgs', random_state=seed, class_weight='balanced')\n",
    "\n",
    "# Define hyperparameter grid for C (overfit regularization)\n",
    "parameters = {'C': [0.001, 0.01, 0.1, 1, 10, 100]}\n",
    "\n",
    "# Search for best hyperparameter of C, with cross-validation of 5:\n",
    "clf_lr = GridSearchCV(lr, parameters, cv=5).fit(X_train_encoded, y_train)\n",
    "score = clf_lr.score(X_test_encoded, y_test)\n",
    "y_preds = clf_lr.predict_proba(X_test_encoded)[:, 1]\n",
    "\n",
    "# Extract coefficients\n",
    "coefs = pd.DataFrame(clf_lr.best_estimator_.coef_[0], index=X_train_encoded.columns, columns=['Coefficient'])\n",
    "\n",
    "# Calculate the absolute values of coefficients\n",
    "coefs['Abs_Coefficient'] = abs(coefs['Coefficient'])\n",
    "\n",
    "# Sort the coefficients by absolute value in descending order\n",
    "coefs_sorted = coefs.sort_values(by='Abs_Coefficient', ascending=False)\n",
    "\n",
    "\n",
    "print(\"Model Coefficients (sorted by absolute value):\")\n",
    "print(coefs_sorted)"
   ]
  },
  {
   "cell_type": "markdown",
   "metadata": {},
   "source": [
    "From the sorted coefficients, we can conclude the following:\n",
    "\n",
    "Features with the largest absolute coefficients have the most significant impact on predicting whether a client will subscribe to a term deposit.\n",
    "In this model, the economic variables **emp.var.rate**, **pdays** and **nr.employed** are the strongest predictors. Specifically, a decrease in the employment variation rate (emp.var.rate), a decrease in the number of days since the client was last contacted (pdays), and decreases in the number of employees (nr.employed) are associated with a higher likelihood of subscription. These align with the correlation analysis we did before model training.\n",
    "\n",
    "Categorical features such as default, poutcome, job, marital, and housing also play significant roles in predicting subscription.\n",
    "For instance, having no credit default (default_no), a successful previous marketing campaign outcome (poutcome_success), being retired (job_retired), being a student (job_student), and having a previous nonexistent outcome (poutcome_nonexistent) are associated with a higher likelihood of subscription.\n",
    "\n",
    "Last, features with smaller absolute coefficients, such as job_self-employed and job_entrepreneur, have less impact on the prediction compared to the stronger predictors mentioned above.\n",
    "\n",
    "\n",
    "In summary, these coefficients provide insights into which features are most influential in determining whether a client will subscribe to a term deposit, guiding further analysis and decision-making in marketing strategies."
   ]
  },
  {
   "cell_type": "markdown",
   "metadata": {},
   "source": [
    "### EXTRA NOTE:\n",
    "\n",
    "After analyzing the logistic regression coefficients using the pre-PCA dataset (which includes only encoded and scaled features), I observed a slight improvement in both the minimum cost and the Precision-Recall Curve (PRC) compared to the results obtained with PCA-transformed features: the minimum cost was €1.273 million (pre-PCA) versus €1.296 million (PCA), and the PRC AUC was 0.41 (pre-PCA) versus 0.40 (PCA). The difference in performance suggests the following considerations:\n",
    "\n",
    "**Interpretability vs. Performance:**\n",
    "\n",
    "*PCA-Transformed Features:*\n",
    "While PCA captures essential variance, the resulting features may lack interpretability.\n",
    "Logistic regression with these features might struggle to provide meaningful insights.\n",
    "\n",
    "*Original Encoded Features:*\n",
    "The original encoded features retain the raw information.\n",
    "They may perform better if they contain crucial information for classification.\n",
    "\n",
    "\n",
    "**Balancing Act:**\n",
    "\n",
    "It’s essential to strike a balance between model interpretability and performance:\n",
    "\n",
    "PCA: Simplicity, dimensionality reduction, but potentially less interpretable.\n",
    "\n",
    "Encoded Features: More informative, but possibly more complex.\n",
    "\n"
   ]
  },
  {
   "cell_type": "markdown",
   "metadata": {},
   "source": [
    "\n",
    "\n",
    "In conclusion, while PCA offers dimensionality reduction, leveraging the original encoded features can yield better performance and richer insights, striking an optimal balance between interpretability and model efficacy.\n",
    "\n",
    "Also, despite trying other models for the pre-PCA dataset (KNN, Decision Trees, Random Forest), logistic regression consistently yielded the best results."
   ]
  },
  {
   "cell_type": "code",
   "execution_count": null,
   "metadata": {},
   "outputs": [
    {
     "data": {
      "image/png": "[encoded data removed]",
      "text/plain": [
       "<Figure size 640x480 with 1 Axes>"
      ]
     },
     "metadata": {},
     "output_type": "display_data"
    },
    {
     "name": "stdout",
     "output_type": "stream",
     "text": [
      "Minimum cost: 1273500 at threshold: 0.6\n"
     ]
    },
    {
     "data": {
      "text/plain": [
       "(0.6, 1273500)"
      ]
     },
     "execution_count": 358,
     "metadata": {},
     "output_type": "execute_result"
    }
   ],
   "source": [
    "# Define Logistic Regression classifier; class_weight parameter to handle class imbalance and 'lbfgs' solver for multi-class classification problem\n",
    "lr = LogisticRegression(max_iter=500, solver='lbfgs', random_state=seed, class_weight='balanced')\n",
    "\n",
    "# Define hyperparameter grid for C (overfit regularization)\n",
    "parameters = {'C': [0.001, 0.01, 0.1, 1, 10, 100]}\n",
    "\n",
    "# Search for best hyperparameter of C, with cross-validation of 5:\n",
    "clf_lr = GridSearchCV(lr, parameters, cv=5).fit(X_train_encoded, y_train)\n",
    "score = clf_lr.score(X_test_encoded, y_test)\n",
    "y_preds = clf_lr.predict_proba(X_test_encoded)[:, 1]\n",
    "\n",
    "\n",
    "min_cost_threshold(y_test, y_preds)\n",
    "\n",
    "\n"
   ]
  },
  {
   "cell_type": "code",
   "execution_count": 359,
   "metadata": {},
   "outputs": [
    {
     "data": {
      "image/png": "[encoded data removed]",
      "text/plain": [
       "<Figure size 640x480 with 1 Axes>"
      ]
     },
     "metadata": {},
     "output_type": "display_data"
    }
   ],
   "source": [
    "from sklearn.metrics import precision_recall_curve, auc\n",
    "import matplotlib.pyplot as plt\n",
    "\n",
    "def plot_prc(y_test, y_preds):\n",
    "    # Calculate precision, recall, and thresholds\n",
    "    precision, recall, thresholds = precision_recall_curve(y_test, y_preds)\n",
    "    \n",
    "    # Calculate area under the curve (AUC) for PRC\n",
    "    prc_auc = auc(recall, precision)\n",
    "    \n",
    "    # Plot Precision-Recall Curve\n",
    "    plt.plot(recall, precision, marker='.')\n",
    "    plt.xlabel('Recall')\n",
    "    plt.ylabel('Precision')\n",
    "    plt.title('Precision-Recall Curve (AUC = {:.2f})'.format(prc_auc))\n",
    "    plt.grid(True)\n",
    "    plt.show()\n",
    "\n",
    "plot_prc(y_test, y_preds)"
   ]
  }
 ],
 "metadata": {
  "colab": {
   "provenance": []
  },
  "kernelspec": {
   "display_name": "Python 3 (ipykernel)",
   "language": "python",
   "name": "python3"
  },
  "language_info": {
   "codemirror_mode": {
    "name": "ipython",
    "version": 3
   },
   "file_extension": ".py",
   "mimetype": "text/x-python",
   "name": "python",
   "nbconvert_exporter": "python",
   "pygments_lexer": "ipython3",
   "version": "3.12.1"
  }
 },
 "nbformat": 4,
 "nbformat_minor": 4
}
