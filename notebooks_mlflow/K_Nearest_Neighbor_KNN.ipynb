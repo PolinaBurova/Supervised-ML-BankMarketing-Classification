{
 "cells": [
  {
   "cell_type": "code",
   "execution_count": 1,
   "metadata": {},
   "outputs": [],
   "source": [
    "root_path = 'C:\\\\...\\\\Supervised-ML-BankPrediction-Classification\\\\data\\\\'"
   ]
  },
  {
   "cell_type": "code",
   "execution_count": 2,
   "metadata": {},
   "outputs": [],
   "source": [
    "import pandas as pd\n",
    "import numpy as np\n",
    "import matplotlib.pyplot as plt\n",
    "from sklearn.metrics import  precision_recall_curve, roc_auc_score, confusion_matrix, accuracy_score, recall_score, precision_score, f1_score,auc, roc_curve\n",
    "import pandas as pd\n",
    "from sklearn.model_selection import train_test_split\n",
    "from sklearn.preprocessing import MinMaxScaler\n",
    "from sklearn.model_selection import GridSearchCV\n",
    "from sklearn.ensemble import RandomForestClassifier\n",
    "from sklearn.linear_model import LogisticRegression\n",
    "from sklearn.neighbors import KNeighborsClassifier\n",
    "from sklearn.svm import SVC\n",
    "from sklearn import tree\n",
    "from sklearn.linear_model import Perceptron\n",
    "from sklearn.neural_network import MLPClassifier\n",
    "\n",
    "import warnings\n",
    "\n",
    "# Ignore all warnings\n",
    "warnings.filterwarnings(\"ignore\")\n",
    "\n",
    "\n",
    "seed = 42"
   ]
  },
  {
   "cell_type": "code",
   "execution_count": 3,
   "metadata": {},
   "outputs": [],
   "source": [
    "df = pd.read_csv(root_path + 'bank_marketing_campaign.csv')"
   ]
  },
  {
   "cell_type": "markdown",
   "metadata": {},
   "source": [
    "### Data Cleaning and Preprocessing"
   ]
  },
  {
   "cell_type": "code",
   "execution_count": 5,
   "metadata": {},
   "outputs": [],
   "source": [
    "#Handling \"age\"\" Outliers\n",
    "\n",
    "\n",
    "df = df[df['age'] <= 85]"
   ]
  },
  {
   "cell_type": "code",
   "execution_count": 6,
   "metadata": {},
   "outputs": [],
   "source": [
    "train_set, test_set = train_test_split(df, test_size = 0.2, random_state = seed)\n",
    "\n",
    "X_train = train_set.drop(['y'], axis = 'columns')\n",
    "y_train = train_set['y']\n",
    "\n",
    "X_test = test_set.drop(['y'], axis = 1)\n",
    "y_test = test_set['y']"
   ]
  },
  {
   "cell_type": "code",
   "execution_count": 11,
   "metadata": {},
   "outputs": [],
   "source": [
    "def total_cost(y_test, y_preds, threshold = 0.5):\n",
    "    \n",
    "    tn, fp, fn, tp = confusion_matrix(y_test == 1, y_preds > threshold).ravel()\n",
    "    \n",
    "    cost_fn = fn*2000\n",
    "    cost_fp = fp*500\n",
    "    \n",
    "    return cost_fn + cost_fp"
   ]
  },
  {
   "cell_type": "code",
   "execution_count": 12,
   "metadata": {},
   "outputs": [],
   "source": [
    "def min_cost_threshold(y_test, y_preds):\n",
    "    costs = {}\n",
    "    for threshold in np.arange(0, 1.1, 0.1):\n",
    "        costs[round(threshold, 1)] = total_cost(y_test, y_preds, threshold)\n",
    "    min_threshold = min(costs, key=costs.get)\n",
    "    return costs[min_threshold], min_threshold\n",
    "    "
   ]
  },
  {
   "cell_type": "code",
   "execution_count": 13,
   "metadata": {},
   "outputs": [],
   "source": [
    "import mlflow\n",
    "from pathlib import Path\n",
    "\n",
    "# Set the MLflow tracking URI\n",
    "\n",
    "# Use an absolute path\n",
    "mlflow.set_tracking_uri('file:///c:/.../Supervised-ML-BankPrediction-Classification/mlruns')"
   ]
  },
  {
   "cell_type": "code",
   "execution_count": 14,
   "metadata": {},
   "outputs": [
    {
     "name": "stderr",
     "output_type": "stream",
     "text": [
      "2024/08/13 13:54:35 INFO mlflow.tracking.fluent: Experiment with name 'KNN Experiment' does not exist. Creating a new experiment.\n"
     ]
    },
    {
     "data": {
      "text/plain": [
       "<Experiment: artifact_location='file:///c:/Users/polin/OneDrive/Documents/GitHub/Supervised-ML-BankPrediction-Classification/mlruns/187328230359960894', creation_time=1723550075690, experiment_id='187328230359960894', last_update_time=1723550075690, lifecycle_stage='active', name='KNN Experiment', tags={}>"
      ]
     },
     "execution_count": 14,
     "metadata": {},
     "output_type": "execute_result"
    }
   ],
   "source": [
    "# Define MLflow Experiment for Logistic Regression\n",
    "mlflow.set_experiment(\"KNN Experiment\")"
   ]
  },
  {
   "cell_type": "code",
   "execution_count": 15,
   "metadata": {},
   "outputs": [],
   "source": [
    "mlflow.end_run()"
   ]
  },
  {
   "cell_type": "code",
   "execution_count": 17,
   "metadata": {},
   "outputs": [
    {
     "name": "stderr",
     "output_type": "stream",
     "text": [
      "Successfully registered model 'K_Nearest_Neighbor'.\n",
      "Created version '1' of model 'K_Nearest_Neighbor'.\n"
     ]
    },
    {
     "data": {
      "image/png": "[encoded data removed]",
      "text/plain": [
       "<Figure size 640x480 with 1 Axes>"
      ]
     },
     "metadata": {},
     "output_type": "display_data"
    }
   ],
   "source": [
    "# Define the preprocessing for numerical features\n",
    "numerical_features = ['age', 'pdays', 'previous', 'emp_var_rate', \n",
    "                      'cons_price_idx', 'cons_conf_idx', 'euribor3m', 'nr_employed']\n",
    "numerical_transformer = MinMaxScaler()\n",
    "\n",
    "# Define the preprocessing for categorical features\n",
    "categorical_features = ['job', 'marital', 'default', 'housing', 'loan', 'poutcome']\n",
    "categorical_transformer = OneHotEncoder()\n",
    "\n",
    "# Ordinal Encoding for 'education'\n",
    "ordinal_features = ['education']\n",
    "ordinal_transformer = OrdinalEncoder(categories=[[\"unknown\", \"illiterate\", \"basic.4y\", \"basic.6y\", \"basic.9y\", \n",
    "                                                  \"high.school\", \"professional.course\", \"university.degree\"]])\n",
    "\n",
    "# Combine preprocessing steps\n",
    "preprocessor = ColumnTransformer(\n",
    "    transformers=[\n",
    "        ('num', numerical_transformer, numerical_features),\n",
    "        ('cat', categorical_transformer, categorical_features),\n",
    "        ('ord', ordinal_transformer, ordinal_features)\n",
    "    ])\n",
    "\n",
    "# PCA\n",
    "pca = PCA(n_components=14)\n",
    "\n",
    "knn = KNeighborsClassifier()\n",
    "\n",
    "# Create the pipeline\n",
    "pipeline = Pipeline(steps=[\n",
    "    ('preprocessor', preprocessor),\n",
    "    ('pca', pca),\n",
    "    ('knn', knn)\n",
    "])\n",
    "\n",
    "parameters = {'KNN__n_neighbors': range(1,40, 1)}\n",
    "\n",
    "from sklearn.metrics import confusion_matrix, ConfusionMatrixDisplay\n",
    "\n",
    "with mlflow.start_run(run_name=\"KNN Run\", nested = True):\n",
    "    # Train GridSearchCV with the pipeline\n",
    "    clf_knn = GridSearchCV(pipeline, parameters, cv=5, n_jobs=-1)\n",
    "    clf_knn.fit(X_train, y_train)\n",
    "    \n",
    "    # Predict probabilities for test data\n",
    "    y_probs = clf_knn.predict_proba(X_test)[:, 1]\n",
    "    \n",
    "    # Evaluate logistic regression model\n",
    "    score = clf_knn.score(X_test, y_test)\n",
    "    tn, fp, fn, tp = confusion_matrix(y_test, y_probs > 0.5).ravel()\n",
    "    \n",
    "    # Calculate total cost and minimum cost threshold\n",
    "    cost, min_threshold = total_cost(y_test, y_probs), min_cost_threshold(y_test, y_probs)\n",
    "    \n",
    "    # Log parameters, metrics, and model artifacts with MLflow\n",
    "    mlflow.log_params(clf_knn.best_params_)\n",
    "    mlflow.log_metric(\"accuracy\", score)\n",
    "    mlflow.log_metric(\"total_cost\", cost)\n",
    "    mlflow.log_metric(\"min_cost_threshold\", min_threshold[0])\n",
    "    \n",
    "    \n",
    "    # Plot total cost vs threshold curve\n",
    "    thresholds = np.arange(0, 1.1, 0.1)\n",
    "    costs = [total_cost(y_test, y_probs, threshold) for threshold in thresholds]\n",
    "    plt.plot(thresholds, costs)\n",
    "    plt.ylabel('Cost')\n",
    "    plt.xlabel('Threshold')\n",
    "    plt.title('Total Cost vs Threshold Curve')\n",
    "    plt.savefig('total_cost_vs_threshold.png')\n",
    "    mlflow.log_artifact('total_cost_vs_threshold.png')\n",
    "\n",
    "    # Log the final model\n",
    "    mlflow.sklearn.log_model(clf_knn.best_estimator_, artifact_path=\"knn\", registered_model_name=\"K_Nearest_Neighbor\", input_example=X_train)"
   ]
  },
  {
   "cell_type": "code",
   "execution_count": 18,
   "metadata": {},
   "outputs": [
    {
     "data": {
      "text/plain": [
       "{'algorithm': 'auto',\n",
       " 'leaf_size': 30,\n",
       " 'metric': 'minkowski',\n",
       " 'metric_params': None,\n",
       " 'n_jobs': None,\n",
       " 'n_neighbors': 5,\n",
       " 'p': 2,\n",
       " 'weights': 'uniform'}"
      ]
     },
     "execution_count": 18,
     "metadata": {},
     "output_type": "execute_result"
    }
   ],
   "source": [
    "params=knn.get_params()\n",
    "mlflow.log_params(params)\n",
    "params"
   ]
  },
  {
   "cell_type": "code",
   "execution_count": 19,
   "metadata": {},
   "outputs": [],
   "source": [
    "mlflow.end_run()"
   ]
  }
 ],
 "metadata": {
  "kernelspec": {
   "display_name": "rumos_bank",
   "language": "python",
   "name": "python3"
  },
  "language_info": {
   "codemirror_mode": {
    "name": "ipython",
    "version": 3
   },
   "file_extension": ".py",
   "mimetype": "text/x-python",
   "name": "python",
   "nbconvert_exporter": "python",
   "pygments_lexer": "ipython3",
   "version": "3.11.9"
  }
 },
 "nbformat": 4,
 "nbformat_minor": 2
}
