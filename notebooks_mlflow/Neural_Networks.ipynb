{
 "cells": [
  {
   "cell_type": "code",
   "execution_count": 1,
   "metadata": {},
   "outputs": [],
   "source": [
    "root_path = 'C:\\\\...\\\\Supervised-ML-BankPrediction-Classification\\\\data\\\\'"
   ]
  },
  {
   "cell_type": "code",
   "execution_count": 2,
   "metadata": {},
   "outputs": [],
   "source": [
    "import pandas as pd\n",
    "import numpy as np\n",
    "import matplotlib.pyplot as plt\n",
    "from sklearn.metrics import  precision_recall_curve, roc_auc_score, confusion_matrix, accuracy_score, recall_score, precision_score, f1_score,auc, roc_curve\n",
    "import pandas as pd\n",
    "from sklearn.model_selection import train_test_split\n",
    "from sklearn.preprocessing import MinMaxScaler\n",
    "from sklearn.model_selection import GridSearchCV\n",
    "from sklearn.ensemble import RandomForestClassifier\n",
    "from sklearn.linear_model import LogisticRegression\n",
    "from sklearn.neighbors import KNeighborsClassifier\n",
    "from sklearn.svm import SVC\n",
    "from sklearn import tree\n",
    "from sklearn.linear_model import Perceptron\n",
    "from sklearn.neural_network import MLPClassifier\n",
    "\n",
    "import warnings\n",
    "\n",
    "# Ignore all warnings\n",
    "warnings.filterwarnings(\"ignore\")\n",
    "\n",
    "\n",
    "seed = 42"
   ]
  },
  {
   "cell_type": "code",
   "execution_count": 3,
   "metadata": {},
   "outputs": [],
   "source": [
    "df = pd.read_csv(root_path + 'bank_marketing_campaign.csv')"
   ]
  },
  {
   "cell_type": "markdown",
   "metadata": {},
   "source": [
    "### Data Cleaning and Preprocessing"
   ]
  },
  {
   "cell_type": "code",
   "execution_count": 5,
   "metadata": {},
   "outputs": [],
   "source": [
    "#Handling \"age\"\" Outliers\n",
    "\n",
    "\n",
    "df = df[df['age'] <= 85]"
   ]
  },
  {
   "cell_type": "code",
   "execution_count": 7,
   "metadata": {},
   "outputs": [],
   "source": [
    "train_set, test_set = train_test_split(df, test_size = 0.2, random_state = seed)\n",
    "\n",
    "X_train = train_set.drop(['y'], axis = 'columns')\n",
    "y_train = train_set['y']\n",
    "\n",
    "X_test = test_set.drop(['y'], axis = 1)\n",
    "y_test = test_set['y']"
   ]
  },
  {
   "cell_type": "code",
   "execution_count": 12,
   "metadata": {},
   "outputs": [],
   "source": [
    "def total_cost(y_test, y_preds, threshold = 0.5):\n",
    "    \n",
    "    tn, fp, fn, tp = confusion_matrix(y_test == 1, y_preds > threshold).ravel()\n",
    "    \n",
    "    cost_fn = fn*2000\n",
    "    cost_fp = fp*500\n",
    "    \n",
    "    return cost_fn + cost_fp"
   ]
  },
  {
   "cell_type": "code",
   "execution_count": 13,
   "metadata": {},
   "outputs": [],
   "source": [
    "def min_cost_threshold(y_test, y_preds):\n",
    "    costs = {}\n",
    "    for threshold in np.arange(0, 1.1, 0.1):\n",
    "        costs[round(threshold, 1)] = total_cost(y_test, y_preds, threshold)\n",
    "    min_threshold = min(costs, key=costs.get)\n",
    "    return costs[min_threshold], min_threshold\n",
    "    "
   ]
  },
  {
   "cell_type": "code",
   "execution_count": 14,
   "metadata": {},
   "outputs": [],
   "source": [
    "import mlflow\n",
    "from pathlib import Path\n",
    "\n",
    "# Set the MLflow tracking URI\n",
    "\n",
    "# Use an absolute path\n",
    "mlflow.set_tracking_uri('file:///c:/.../Supervised-ML-BankPrediction-Classification/mlruns')"
   ]
  },
  {
   "cell_type": "code",
   "execution_count": 15,
   "metadata": {},
   "outputs": [
    {
     "name": "stderr",
     "output_type": "stream",
     "text": [
      "2024/08/13 13:20:04 INFO mlflow.tracking.fluent: Experiment with name 'Neural Networks Experiment' does not exist. Creating a new experiment.\n"
     ]
    },
    {
     "data": {
      "text/plain": [
       "<Experiment: artifact_location='file:///c:/Users/polin/OneDrive/Documents/GitHub/Supervised-ML-BankPrediction-Classification/mlruns/433140071435902239', creation_time=1723548004921, experiment_id='433140071435902239', last_update_time=1723548004921, lifecycle_stage='active', name='Neural Networks Experiment', tags={}>"
      ]
     },
     "execution_count": 15,
     "metadata": {},
     "output_type": "execute_result"
    }
   ],
   "source": [
    "# Define MLflow Experiment for Logistic Regression\n",
    "mlflow.set_experiment(\"Neural Networks Experiment\")"
   ]
  },
  {
   "cell_type": "code",
   "execution_count": 16,
   "metadata": {},
   "outputs": [],
   "source": [
    "mlflow.end_run()"
   ]
  },
  {
   "cell_type": "code",
   "execution_count": 18,
   "metadata": {},
   "outputs": [
    {
     "name": "stderr",
     "output_type": "stream",
     "text": [
      "Successfully registered model 'neural_network'.\n",
      "Created version '1' of model 'neural_network'.\n"
     ]
    },
    {
     "data": {
      "image/png": "[encoded data removed]",
      "text/plain": [
       "<Figure size 640x480 with 1 Axes>"
      ]
     },
     "metadata": {},
     "output_type": "display_data"
    }
   ],
   "source": [
    "# Define the preprocessing for numerical features\n",
    "numerical_features = ['age', 'pdays', 'previous', 'emp_var_rate', \n",
    "                      'cons_price_idx', 'cons_conf_idx', 'euribor3m', 'nr_employed']\n",
    "numerical_transformer = MinMaxScaler()\n",
    "\n",
    "# Define the preprocessing for categorical features\n",
    "categorical_features = ['job', 'marital', 'default', 'housing', 'loan', 'poutcome']\n",
    "categorical_transformer = OneHotEncoder()\n",
    "\n",
    "# Ordinal Encoding for 'education'\n",
    "ordinal_features = ['education']\n",
    "ordinal_transformer = OrdinalEncoder(categories=[[\"unknown\", \"illiterate\", \"basic.4y\", \"basic.6y\", \"basic.9y\", \n",
    "                                                  \"high.school\", \"professional.course\", \"university.degree\"]])\n",
    "\n",
    "# Combine preprocessing steps\n",
    "preprocessor = ColumnTransformer(\n",
    "    transformers=[\n",
    "        ('num', numerical_transformer, numerical_features),\n",
    "        ('cat', categorical_transformer, categorical_features),\n",
    "        ('ord', ordinal_transformer, ordinal_features)\n",
    "    ])\n",
    "\n",
    "# PCA\n",
    "pca = PCA(n_components=14)\n",
    "\n",
    "mlp = MLPClassifier(solver = 'lbfgs',  random_state = seed, max_iter = 1000 )\n",
    "\n",
    "# Create the pipeline\n",
    "pipeline = Pipeline(steps=[\n",
    "    ('preprocessor', preprocessor),\n",
    "    ('pca', pca),\n",
    "    ('neural networks', mlp)\n",
    "])\n",
    "\n",
    "parameters = {'MLP__hidden_layer_sizes': [(20,), (20,10), (20, 10, 2)], 'MLP__learning_rate_init':[0.0001, 0.001, 0.01, 0.1]}\n",
    "\n",
    "from sklearn.metrics import confusion_matrix, ConfusionMatrixDisplay\n",
    "\n",
    "with mlflow.start_run(run_name=\"MLP Run\", nested = True):\n",
    "    # Train GridSearchCV with the pipeline\n",
    "    clf_mlp = GridSearchCV(mlp, parameters, cv=5, n_jobs=-1)\n",
    "    clf_mlp.fit(X_train, y_train)\n",
    "    \n",
    "    # Predict probabilities for test data\n",
    "    y_probs = clf_mlp.predict_proba(X_test)[:, 1]\n",
    "    \n",
    "    # Evaluate logistic regression model\n",
    "    score = clf_mlp.score(X_test, y_test)\n",
    "    tn, fp, fn, tp = confusion_matrix(y_test, y_probs > 0.5).ravel()\n",
    "    \n",
    "    # Calculate total cost and minimum cost threshold\n",
    "    cost, min_threshold = total_cost(y_test, y_probs), min_cost_threshold(y_test, y_probs)\n",
    "    \n",
    "    # Log parameters, metrics, and model artifacts with MLflow\n",
    "    mlflow.log_params(clf_mlp.best_params_)\n",
    "    mlflow.log_metric(\"accuracy\", score)\n",
    "    mlflow.log_metric(\"total_cost\", cost)\n",
    "    mlflow.log_metric(\"min_cost_threshold\", min_threshold[0])\n",
    "    \n",
    "    \n",
    "    # Plot total cost vs threshold curve\n",
    "    thresholds = np.arange(0, 1.1, 0.1)\n",
    "    costs = [total_cost(y_test, y_probs, threshold) for threshold in thresholds]\n",
    "    plt.plot(thresholds, costs)\n",
    "    plt.ylabel('Cost')\n",
    "    plt.xlabel('Threshold')\n",
    "    plt.title('Total Cost vs Threshold Curve')\n",
    "    plt.savefig('total_cost_vs_threshold.png')\n",
    "    mlflow.log_artifact('total_cost_vs_threshold.png')\n",
    "\n",
    "    # Log the final model\n",
    "    mlflow.sklearn.log_model(clf_mlp.best_estimator_, artifact_path=\"mlp\", registered_model_name=\"neural_network\", input_example=X_train)"
   ]
  },
  {
   "cell_type": "code",
   "execution_count": 20,
   "metadata": {},
   "outputs": [
    {
     "data": {
      "text/plain": [
       "{'activation': 'relu',\n",
       " 'alpha': 0.0001,\n",
       " 'batch_size': 'auto',\n",
       " 'beta_1': 0.9,\n",
       " 'beta_2': 0.999,\n",
       " 'early_stopping': False,\n",
       " 'epsilon': 1e-08,\n",
       " 'hidden_layer_sizes': (100,),\n",
       " 'learning_rate': 'constant',\n",
       " 'learning_rate_init': 0.001,\n",
       " 'max_fun': 15000,\n",
       " 'max_iter': 1000,\n",
       " 'momentum': 0.9,\n",
       " 'n_iter_no_change': 10,\n",
       " 'nesterovs_momentum': True,\n",
       " 'power_t': 0.5,\n",
       " 'random_state': 42,\n",
       " 'shuffle': True,\n",
       " 'solver': 'lbfgs',\n",
       " 'tol': 0.0001,\n",
       " 'validation_fraction': 0.1,\n",
       " 'verbose': False,\n",
       " 'warm_start': False}"
      ]
     },
     "execution_count": 20,
     "metadata": {},
     "output_type": "execute_result"
    }
   ],
   "source": [
    "params=mlp.get_params()\n",
    "mlflow.log_params(params)\n",
    "params"
   ]
  },
  {
   "cell_type": "code",
   "execution_count": 21,
   "metadata": {},
   "outputs": [],
   "source": [
    "mlflow.end_run()"
   ]
  }
 ],
 "metadata": {
  "kernelspec": {
   "display_name": "rumos_bank",
   "language": "python",
   "name": "python3"
  },
  "language_info": {
   "codemirror_mode": {
    "name": "ipython",
    "version": 3
   },
   "file_extension": ".py",
   "mimetype": "text/x-python",
   "name": "python",
   "nbconvert_exporter": "python",
   "pygments_lexer": "ipython3",
   "version": "3.11.9"
  }
 },
 "nbformat": 4,
 "nbformat_minor": 2
}
